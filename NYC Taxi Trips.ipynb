{
 "cells": [
  {
   "cell_type": "markdown",
   "metadata": {},
   "source": [
    "# About the project\n",
    "## Case Study 6.1: NYC Taxi Trips\n",
    "<b>Case Study Description:</b> To predict the trip duration of a New York taxi cab ride, we can build different types of features and evaluate them. We will start by describing what is a feature in this context; then we will develop some elementary features and add features using the software package featuretools. We will assess how these features perform in predicting trip duration."
   ]
  },
  {
   "cell_type": "markdown",
   "metadata": {},
   "source": [
    "## <u>Setup</u>"
   ]
  },
  {
   "cell_type": "markdown",
   "metadata": {},
   "source": [
    "### <p style=\"color:blue;font-weight: bold\">Libraries</p>"
   ]
  },
  {
   "cell_type": "markdown",
   "metadata": {},
   "source": [
    "<font color='red'><b>Note:</b><br>\n",
    "This uses an alternative to <b>featuretools</b> for R called <b>featuretoolsR</b><br>\n",
    "- To Install featuretoolsR tou need to have \"devtools\" installed.<br>\n",
    "- Then you can run: devtools::install_github(\"magnusfurugard/featuretoolsR\")</font>"
   ]
  },
  {
   "cell_type": "code",
   "execution_count": 1,
   "metadata": {},
   "outputs": [],
   "source": [
    "# You wil need to define (if not already) your Python path.\n",
    "# reticulate::py_discover_config()\n",
    "library(\"reticulate\")\n",
    "use_python(\"~/Library/r-miniconda/envs/r-reticulate/bin/python\")"
   ]
  },
  {
   "cell_type": "code",
   "execution_count": 2,
   "metadata": {},
   "outputs": [
    {
     "name": "stderr",
     "output_type": "stream",
     "text": [
      "Registered S3 methods overwritten by 'ggplot2':\n",
      "  method         from \n",
      "  [.quosures     rlang\n",
      "  c.quosures     rlang\n",
      "  print.quosures rlang\n",
      "\n"
     ]
    },
    {
     "name": "stdout",
     "output_type": "stream",
     "text": [
      "╔═════════════════════════╗\n",
      "║   featuretoolsR 0.4.4   ║\n",
      "╚═════════════════════════╝\n"
     ]
    },
    {
     "name": "stderr",
     "output_type": "stream",
     "text": [
      "\n"
     ]
    },
    {
     "name": "stdout",
     "output_type": "stream",
     "text": [
      "\u001b[32m✔\u001b[39m Using Featuretools 0.16.0\n"
     ]
    },
    {
     "name": "stderr",
     "output_type": "stream",
     "text": [
      "\n",
      "\n",
      "\n",
      "Attaching package: ‘dplyr’\n",
      "\n",
      "\n",
      "The following objects are masked from ‘package:stats’:\n",
      "\n",
      "    filter, lag\n",
      "\n",
      "\n",
      "The following objects are masked from ‘package:base’:\n",
      "\n",
      "    intersect, setdiff, setequal, union\n",
      "\n",
      "\n",
      "Loaded gbm 2.1.5\n",
      "\n"
     ]
    },
    {
     "name": "stdout",
     "output_type": "stream",
     "text": [
      "[1] \"Functions loaded\"\n"
     ]
    }
   ],
   "source": [
    "library(\"featuretoolsR\")\n",
    "library(\"dplyr\")\n",
    "library(\"gbm\")\n",
    "print(\"Functions loaded\")"
   ]
  },
  {
   "cell_type": "markdown",
   "metadata": {},
   "source": [
    "### <p style=\"color:blue;font-weight: bold\">Functions</p>"
   ]
  },
  {
   "cell_type": "markdown",
   "metadata": {},
   "source": [
    "- **featuretoolsR** does not include the original **encode_features** function, so a custom one was made called **custom_encode_features** which returns one-hot encoding of categorical variables.\n",
    "- Additionally, custom function to replace python **SimpleImputer** class and Rscores were made."
   ]
  },
  {
   "cell_type": "code",
   "execution_count": 3,
   "metadata": {},
   "outputs": [
    {
     "name": "stdout",
     "output_type": "stream",
     "text": [
      "[1] \"Functions Loaded\"\n"
     ]
    }
   ],
   "source": [
    "# R^2 Calculation\n",
    "r_squared <- function(predicted,actual) {\n",
    "  r_squared <- 1 - (sum((actual - predicted)^2) / sum((actual - mean(actual))^2))\n",
    "  return(r_squared)\n",
    "}\n",
    "\n",
    "# Custom encode feature to support missing function un featuretoolsR\n",
    "  custom_encode_features <- function(feature_matrix, to_encode, include_unknown, top_n) {\n",
    "    temp <- feature_matrix\n",
    "    for(feature in to_encode) {\n",
    "      \n",
    "      # We generate the list of top_n unique values for feature to encode\n",
    "      if(include_unknown == TRUE) {\n",
    "        encoded_feature <- names(head(sort(table(feature_matrix[[feature]],exclude = NULL),decreasing=TRUE),top_n))\n",
    "      } else {\n",
    "        encoded_feature <- names(head(sort(table(feature_matrix[[feature]]),decreasing=TRUE),top_n))\n",
    "      }\n",
    "      \n",
    "      for(i in 1:length(encoded_feature)) {\n",
    "        temp <- temp %>%\t\n",
    "          mutate( \n",
    "            # Create male column\n",
    "            !!paste(feature,\"=\",encoded_feature[i]) := ifelse(feature_matrix[[feature]] == encoded_feature[i] , 1, 0)\n",
    "          )\n",
    "      }\n",
    "    }\n",
    "    return(temp[,!names(temp) %in% to_encode])\n",
    "  }\n",
    "\n",
    "# Compute features function based on dsx-cs6 utils\n",
    "  compute_features <- function(features,entities) {\n",
    "    \n",
    "    # We create feature matrix using featuretools calculate_feature_matrix function\n",
    "    feature_matrix <- calculate_feature_matrix(entities,features,\n",
    "                                               approximate='36d',\n",
    "                                               verbose=TRUE) \n",
    "    \n",
    "    # Since encode_features function is missing, we hot-encode pickup_neighborhood and dropoff_neighborhood \n",
    "    # with a custom function created: custom_encode_features\n",
    "    print(\"Finishing computing...\")\n",
    "    feature_matrix <- custom_encode_features(feature_matrix, to_encode=c(\"pickup_neighborhood\",\"dropoff_neighborhood\"), include_unknown=FALSE, top_n=1000) \n",
    "  \n",
    "    # Return Output\n",
    "    return(feature_matrix)\n",
    "  \n",
    "  }\n",
    "  \n",
    "# Logical to integer\n",
    "logical_to_integer <- function(feature_matrix) {\n",
    "  # Convert logical values to integers\n",
    "  logical_features <- names(feature_matrix[,unlist(lapply(feature_matrix, is.logical))])\n",
    "  for(feature in logical_features) {\n",
    "    feature_matrix[[feature]] <- as.numeric(as.integer(feature_matrix[[feature]]))\n",
    "  }\n",
    "  return(feature_matrix)\n",
    "}\n",
    "\n",
    "logical_to_factor <- function(feature_matrix) {\n",
    "  # Convert logical values to integers\n",
    "  logical_features <- names(feature_matrix[,unlist(lapply(feature_matrix, is.logical))])\n",
    "  for(feature in logical_features) {\n",
    "    feature_matrix[[feature]] <- as.factor(feature_matrix[[feature]])\n",
    "  }\n",
    "  return(feature_matrix)\n",
    "}\n",
    "\n",
    "custom_fit <- function(data) {\n",
    "  out <- list()\n",
    "  numeric_features <- names(data[,unlist(lapply(data, is.numeric))])\n",
    "  for(feature in numeric_features) {\n",
    "    out[[feature]] <- mean(data[[feature]] ,na.rm = TRUE)\n",
    "  }\n",
    "  return(out)\n",
    "}\n",
    "\n",
    "# Custom fit_transform\n",
    "custom_transform <- function(data,fit) {\n",
    "  numeric_features <- names(fit)\n",
    "  for(feature in numeric_features) {\n",
    "    data[[feature]][which(is.na(data[[feature]]))] <-fit[[feature]]\n",
    "  }\n",
    "  return(data)\n",
    "}\n",
    "  \n",
    "# get_train_test_fm based on dsx-cs6 utils\n",
    "get_train_test_fm <- function(feature_matrix, original_data, percentage) {\n",
    "  \n",
    "  out <- list()\n",
    "  \n",
    "  nrows <- nrow(feature_matrix)\n",
    "  head <- nrows * percentage\n",
    "  tail <- nrows - head\n",
    "  \n",
    "  X_train <- head(feature_matrix,head)\n",
    "  y_train <- head(original_data$trip_duration,head)\n",
    "  \n",
    "  # Emulating fit_transform\n",
    "  fit <- custom_fit(X_train)\n",
    "  X_train = custom_transform(X_train,fit)\n",
    "  \n",
    "  X_test = tail(feature_matrix,tail)\n",
    "  y_test = tail(original_data$trip_duration,tail)\n",
    "  X_test = custom_transform(X_test,fit)\n",
    "  \n",
    "  # Return values\n",
    "  out$X_train <- X_train \n",
    "  out$y_train <- y_train\n",
    "  out$X_test <- X_test\n",
    "  out$y_test <- y_test\n",
    "  \n",
    "  return(out)\n",
    "  \n",
    "}\n",
    "print(\"Functions Loaded\")"
   ]
  },
  {
   "cell_type": "markdown",
   "metadata": {},
   "source": [
    "### <p style=\"color:blue;font-weight: bold\">Data Load</p>"
   ]
  },
  {
   "cell_type": "code",
   "execution_count": 4,
   "metadata": {},
   "outputs": [],
   "source": [
    "# Needed to load picke file\n",
    "source_python(\"read_pickle.py\")"
   ]
  },
  {
   "cell_type": "markdown",
   "metadata": {},
   "source": [
    "* Opening a pickle file in R <a href=\"https://community.rstudio.com/t/opening-a-pickle-file-in-r-studio/54191\">additional info</a>"
   ]
  },
  {
   "cell_type": "code",
   "execution_count": 5,
   "metadata": {},
   "outputs": [
    {
     "name": "stdout",
     "output_type": "stream",
     "text": [
      "[1] \"Data Loaded\"\n"
     ]
    }
   ],
   "source": [
    "# We load data\n",
    "trips <- read_pickle_file(\"./trips.pkl\")\n",
    "dropoff_neighborhoods <- read.csv(\"./dropoff_neighborhoods.csv\")\n",
    "pickup_neighborhoods <- read.csv(\"./pickup_neighborhoods.csv\")\n",
    "\n",
    "# We set type\n",
    "trips$pickup_neighborhood <- as.character(trips$pickup_neighborhood)\n",
    "trips$dropoff_neighborhood <- as.character(as.character(trips$dropoff_neighborhood))\n",
    "dropoff_neighborhoods$neighborhood_id <- as.character(dropoff_neighborhoods$neighborhood_id)\n",
    "pickup_neighborhoods$neighborhood_id <- as.character(pickup_neighborhoods$neighborhood_id)\n",
    "print(\"Data Loaded\")"
   ]
  },
  {
   "cell_type": "code",
   "execution_count": 6,
   "metadata": {},
   "outputs": [
    {
     "data": {
      "text/html": [
       "'Trips in dataset: 10000'"
      ],
      "text/latex": [
       "'Trips in dataset: 10000'"
      ],
      "text/markdown": [
       "'Trips in dataset: 10000'"
      ],
      "text/plain": [
       "[1] \"Trips in dataset: 10000\""
      ]
     },
     "metadata": {},
     "output_type": "display_data"
    },
    {
     "data": {
      "image/png": "[encoded data removed]",
      "text/plain": [
       "Plot with title “Trip Duration Distribution”"
      ]
     },
     "metadata": {
      "image/png": {
       "height": 420,
       "width": 420
      },
      "text/plain": {
       "height": 420,
       "width": 420
      }
     },
     "output_type": "display_data"
    }
   ],
   "source": [
    "# Histogram\n",
    "hist(trips$trip_duration, main=\"Trip Duration Distribution\", \n",
    "  xlab=\"Trip Duration in Seconds\",\n",
    "  ylab=\"Number of Trips\",\n",
    "  col=\"lightblue\")\n",
    "\n",
    "# Tells us how many trips are in the dataset\n",
    "paste(\"Trips in dataset:\",nrow(trips))"
   ]
  },
  {
   "cell_type": "markdown",
   "metadata": {},
   "source": [
    "### <p style=\"color:blue;font-weight: bold\">Entities and Relationships</p>"
   ]
  },
  {
   "cell_type": "code",
   "execution_count": 7,
   "metadata": {},
   "outputs": [
    {
     "name": "stdout",
     "output_type": "stream",
     "text": [
      "[1] \"Entities and Relationships generated\"\n"
     ]
    }
   ],
   "source": [
    "\n",
    "# Create entityset\n",
    "entities <- as_entityset(\n",
    "  trips, \n",
    "  index = \"id\", \n",
    "  entity_id = \"trips\", \n",
    "  id = \"trips\", \n",
    "  time_index = \"pickup_datetime\"\n",
    ") %>%\n",
    "add_entity(\n",
    "  pickup_neighborhoods, \n",
    "  entity_id = \"pickup_neighborhoods\", \n",
    "  index = \"neighborhood_id\"\n",
    ") %>%\n",
    "add_entity(\n",
    "  dropoff_neighborhoods, \n",
    "  entity_id = \"dropoff_neighborhoods\", \n",
    "  index = \"neighborhood_id\"\n",
    ")\n",
    "\n",
    "# Add index relationships\n",
    "entities <- entities %>%\n",
    "add_relationship(\n",
    "  parent_set = \"pickup_neighborhoods\", \n",
    "  child_set = \"trips\", \n",
    "  parent_idx = \"neighborhood_id\", \n",
    "  child_idx = \"pickup_neighborhood\"\n",
    ")  %>%\n",
    "  add_relationship(\n",
    "    parent_set = \"dropoff_neighborhoods\", \n",
    "    child_set = \"trips\", \n",
    "    parent_idx = \"neighborhood_id\", \n",
    "    child_idx = \"dropoff_neighborhood\"\n",
    "  ) \n",
    "print(\"Entities and Relationships generated\")"
   ]
  },
  {
   "cell_type": "markdown",
   "metadata": {},
   "source": [
    "## <u>1.1 First Model</u>"
   ]
  },
  {
   "cell_type": "markdown",
   "metadata": {},
   "source": [
    "### <p style=\"color:blue;font-weight: bold\">Transform Primitives</p>"
   ]
  },
  {
   "cell_type": "code",
   "execution_count": 8,
   "metadata": {},
   "outputs": [
    {
     "name": "stdout",
     "output_type": "stream",
     "text": [
      "[1] \"Number of features: 12\"\n"
     ]
    }
   ],
   "source": [
    "trans_primitives <- c(\"is_weekend\")\n",
    "features <- dfs(\n",
    "  entityset=entities,\n",
    "  target_entity=\"trips\",\n",
    "  trans_primitives=trans_primitives,\n",
    "  agg_primitives=NULL,\n",
    "  ignore_variables= list(trips=c(\"pickup_latitude\", \"pickup_longitude\",\n",
    "                                 \"dropoff_latitude\", \"dropoff_longitude\", \"trip_duration\")),\n",
    "  features_only=TRUE\n",
    ")\n",
    "print(paste(\"Number of features:\",length(features)))"
   ]
  },
  {
   "cell_type": "markdown",
   "metadata": {},
   "source": [
    "### <p style=\"color:blue;font-weight: bold\">Dataset Creation</p>"
   ]
  },
  {
   "cell_type": "code",
   "execution_count": 9,
   "metadata": {},
   "outputs": [
    {
     "name": "stdout",
     "output_type": "stream",
     "text": [
      "[1] \"Finishing computing...\"\n"
     ]
    },
    {
     "data": {
      "text/html": [
       "<table>\n",
       "<caption>A data.frame: 5 × 108</caption>\n",
       "<thead>\n",
       "\t<tr><th></th><th scope=col>vendor_id</th><th scope=col>passenger_count</th><th scope=col>trip_distance</th><th scope=col>payment_type</th><th scope=col>IS_WEEKEND(dropoff_datetime)</th><th scope=col>IS_WEEKEND(pickup_datetime)</th><th scope=col>pickup_neighborhoods.latitude</th><th scope=col>pickup_neighborhoods.longitude</th><th scope=col>dropoff_neighborhoods.latitude</th><th scope=col>dropoff_neighborhoods.longitude</th><th scope=col>⋯</th><th scope=col>dropoff_neighborhood = S</th><th scope=col>dropoff_neighborhood = AJ</th><th scope=col>dropoff_neighborhood = L</th><th scope=col>dropoff_neighborhood = M</th><th scope=col>dropoff_neighborhood = AF</th><th scope=col>dropoff_neighborhood = T</th><th scope=col>dropoff_neighborhood = B</th><th scope=col>dropoff_neighborhood = AI</th><th scope=col>dropoff_neighborhood = AE</th><th scope=col>dropoff_neighborhood = AQ</th></tr>\n",
       "\t<tr><th></th><th scope=col>&lt;dbl&gt;</th><th scope=col>&lt;dbl&gt;</th><th scope=col>&lt;dbl&gt;</th><th scope=col>&lt;dbl&gt;</th><th scope=col>&lt;lgl&gt;</th><th scope=col>&lt;lgl&gt;</th><th scope=col>&lt;dbl&gt;</th><th scope=col>&lt;dbl&gt;</th><th scope=col>&lt;dbl&gt;</th><th scope=col>&lt;dbl&gt;</th><th scope=col>⋯</th><th scope=col>&lt;dbl&gt;</th><th scope=col>&lt;dbl&gt;</th><th scope=col>&lt;dbl&gt;</th><th scope=col>&lt;dbl&gt;</th><th scope=col>&lt;dbl&gt;</th><th scope=col>&lt;dbl&gt;</th><th scope=col>&lt;dbl&gt;</th><th scope=col>&lt;dbl&gt;</th><th scope=col>&lt;dbl&gt;</th><th scope=col>&lt;dbl&gt;</th></tr>\n",
       "</thead>\n",
       "<tbody>\n",
       "\t<tr><th scope=row>1</th><td>2</td><td>1</td><td> 2.46</td><td>1</td><td>TRUE</td><td>TRUE</td><td>40.75771</td><td>-73.98645</td><td>40.76681</td><td>-73.95689</td><td>⋯</td><td>0</td><td>0</td><td>0</td><td>0</td><td>0</td><td>0</td><td>0</td><td>0</td><td>0</td><td>0</td></tr>\n",
       "\t<tr><th scope=row>2</th><td>1</td><td>2</td><td> 7.90</td><td>1</td><td>TRUE</td><td>TRUE</td><td>40.74493</td><td>-73.91916</td><td>40.79360</td><td>-73.96982</td><td>⋯</td><td>0</td><td>0</td><td>0</td><td>0</td><td>0</td><td>0</td><td>0</td><td>0</td><td>0</td><td>0</td></tr>\n",
       "\t<tr><th scope=row>3</th><td>1</td><td>1</td><td> 1.00</td><td>1</td><td>TRUE</td><td>TRUE</td><td>40.72965</td><td>-73.99160</td><td>40.74033</td><td>-74.00511</td><td>⋯</td><td>0</td><td>0</td><td>0</td><td>0</td><td>0</td><td>0</td><td>0</td><td>0</td><td>0</td><td>0</td></tr>\n",
       "\t<tr><th scope=row>4</th><td>2</td><td>1</td><td> 0.02</td><td>2</td><td>TRUE</td><td>TRUE</td><td>40.72025</td><td>-73.98720</td><td>40.72025</td><td>-73.98720</td><td>⋯</td><td>0</td><td>0</td><td>0</td><td>0</td><td>0</td><td>0</td><td>0</td><td>0</td><td>0</td><td>0</td></tr>\n",
       "\t<tr><th scope=row>5</th><td>1</td><td>2</td><td>19.00</td><td>1</td><td>TRUE</td><td>TRUE</td><td>40.64619</td><td>-73.78507</td><td>40.78500</td><td>-73.97605</td><td>⋯</td><td>0</td><td>0</td><td>0</td><td>0</td><td>0</td><td>0</td><td>0</td><td>0</td><td>0</td><td>0</td></tr>\n",
       "</tbody>\n",
       "</table>\n"
      ],
      "text/latex": [
       "A data.frame: 5 × 108\n",
       "\\begin{tabular}{r|lllllllllllllllllllll}\n",
       "  & vendor\\_id & passenger\\_count & trip\\_distance & payment\\_type & IS\\_WEEKEND(dropoff\\_datetime) & IS\\_WEEKEND(pickup\\_datetime) & pickup\\_neighborhoods.latitude & pickup\\_neighborhoods.longitude & dropoff\\_neighborhoods.latitude & dropoff\\_neighborhoods.longitude & ⋯ & dropoff\\_neighborhood = S & dropoff\\_neighborhood = AJ & dropoff\\_neighborhood = L & dropoff\\_neighborhood = M & dropoff\\_neighborhood = AF & dropoff\\_neighborhood = T & dropoff\\_neighborhood = B & dropoff\\_neighborhood = AI & dropoff\\_neighborhood = AE & dropoff\\_neighborhood = AQ\\\\\n",
       "  & <dbl> & <dbl> & <dbl> & <dbl> & <lgl> & <lgl> & <dbl> & <dbl> & <dbl> & <dbl> & ⋯ & <dbl> & <dbl> & <dbl> & <dbl> & <dbl> & <dbl> & <dbl> & <dbl> & <dbl> & <dbl>\\\\\n",
       "\\hline\n",
       "\t1 & 2 & 1 &  2.46 & 1 & TRUE & TRUE & 40.75771 & -73.98645 & 40.76681 & -73.95689 & ⋯ & 0 & 0 & 0 & 0 & 0 & 0 & 0 & 0 & 0 & 0\\\\\n",
       "\t2 & 1 & 2 &  7.90 & 1 & TRUE & TRUE & 40.74493 & -73.91916 & 40.79360 & -73.96982 & ⋯ & 0 & 0 & 0 & 0 & 0 & 0 & 0 & 0 & 0 & 0\\\\\n",
       "\t3 & 1 & 1 &  1.00 & 1 & TRUE & TRUE & 40.72965 & -73.99160 & 40.74033 & -74.00511 & ⋯ & 0 & 0 & 0 & 0 & 0 & 0 & 0 & 0 & 0 & 0\\\\\n",
       "\t4 & 2 & 1 &  0.02 & 2 & TRUE & TRUE & 40.72025 & -73.98720 & 40.72025 & -73.98720 & ⋯ & 0 & 0 & 0 & 0 & 0 & 0 & 0 & 0 & 0 & 0\\\\\n",
       "\t5 & 1 & 2 & 19.00 & 1 & TRUE & TRUE & 40.64619 & -73.78507 & 40.78500 & -73.97605 & ⋯ & 0 & 0 & 0 & 0 & 0 & 0 & 0 & 0 & 0 & 0\\\\\n",
       "\\end{tabular}\n"
      ],
      "text/markdown": [
       "\n",
       "A data.frame: 5 × 108\n",
       "\n",
       "| <!--/--> | vendor_id &lt;dbl&gt; | passenger_count &lt;dbl&gt; | trip_distance &lt;dbl&gt; | payment_type &lt;dbl&gt; | IS_WEEKEND(dropoff_datetime) &lt;lgl&gt; | IS_WEEKEND(pickup_datetime) &lt;lgl&gt; | pickup_neighborhoods.latitude &lt;dbl&gt; | pickup_neighborhoods.longitude &lt;dbl&gt; | dropoff_neighborhoods.latitude &lt;dbl&gt; | dropoff_neighborhoods.longitude &lt;dbl&gt; | ⋯ ⋯ | dropoff_neighborhood = S &lt;dbl&gt; | dropoff_neighborhood = AJ &lt;dbl&gt; | dropoff_neighborhood = L &lt;dbl&gt; | dropoff_neighborhood = M &lt;dbl&gt; | dropoff_neighborhood = AF &lt;dbl&gt; | dropoff_neighborhood = T &lt;dbl&gt; | dropoff_neighborhood = B &lt;dbl&gt; | dropoff_neighborhood = AI &lt;dbl&gt; | dropoff_neighborhood = AE &lt;dbl&gt; | dropoff_neighborhood = AQ &lt;dbl&gt; |\n",
       "|---|---|---|---|---|---|---|---|---|---|---|---|---|---|---|---|---|---|---|---|---|---|\n",
       "| 1 | 2 | 1 |  2.46 | 1 | TRUE | TRUE | 40.75771 | -73.98645 | 40.76681 | -73.95689 | ⋯ | 0 | 0 | 0 | 0 | 0 | 0 | 0 | 0 | 0 | 0 |\n",
       "| 2 | 1 | 2 |  7.90 | 1 | TRUE | TRUE | 40.74493 | -73.91916 | 40.79360 | -73.96982 | ⋯ | 0 | 0 | 0 | 0 | 0 | 0 | 0 | 0 | 0 | 0 |\n",
       "| 3 | 1 | 1 |  1.00 | 1 | TRUE | TRUE | 40.72965 | -73.99160 | 40.74033 | -74.00511 | ⋯ | 0 | 0 | 0 | 0 | 0 | 0 | 0 | 0 | 0 | 0 |\n",
       "| 4 | 2 | 1 |  0.02 | 2 | TRUE | TRUE | 40.72025 | -73.98720 | 40.72025 | -73.98720 | ⋯ | 0 | 0 | 0 | 0 | 0 | 0 | 0 | 0 | 0 | 0 |\n",
       "| 5 | 1 | 2 | 19.00 | 1 | TRUE | TRUE | 40.64619 | -73.78507 | 40.78500 | -73.97605 | ⋯ | 0 | 0 | 0 | 0 | 0 | 0 | 0 | 0 | 0 | 0 |\n",
       "\n"
      ],
      "text/plain": [
       "  vendor_id passenger_count trip_distance payment_type\n",
       "1 2         1                2.46         1           \n",
       "2 1         2                7.90         1           \n",
       "3 1         1                1.00         1           \n",
       "4 2         1                0.02         2           \n",
       "5 1         2               19.00         1           \n",
       "  IS_WEEKEND(dropoff_datetime) IS_WEEKEND(pickup_datetime)\n",
       "1 TRUE                         TRUE                       \n",
       "2 TRUE                         TRUE                       \n",
       "3 TRUE                         TRUE                       \n",
       "4 TRUE                         TRUE                       \n",
       "5 TRUE                         TRUE                       \n",
       "  pickup_neighborhoods.latitude pickup_neighborhoods.longitude\n",
       "1 40.75771                      -73.98645                     \n",
       "2 40.74493                      -73.91916                     \n",
       "3 40.72965                      -73.99160                     \n",
       "4 40.72025                      -73.98720                     \n",
       "5 40.64619                      -73.78507                     \n",
       "  dropoff_neighborhoods.latitude dropoff_neighborhoods.longitude ⋯\n",
       "1 40.76681                       -73.95689                       ⋯\n",
       "2 40.79360                       -73.96982                       ⋯\n",
       "3 40.74033                       -74.00511                       ⋯\n",
       "4 40.72025                       -73.98720                       ⋯\n",
       "5 40.78500                       -73.97605                       ⋯\n",
       "  dropoff_neighborhood = S dropoff_neighborhood = AJ dropoff_neighborhood = L\n",
       "1 0                        0                         0                       \n",
       "2 0                        0                         0                       \n",
       "3 0                        0                         0                       \n",
       "4 0                        0                         0                       \n",
       "5 0                        0                         0                       \n",
       "  dropoff_neighborhood = M dropoff_neighborhood = AF dropoff_neighborhood = T\n",
       "1 0                        0                         0                       \n",
       "2 0                        0                         0                       \n",
       "3 0                        0                         0                       \n",
       "4 0                        0                         0                       \n",
       "5 0                        0                         0                       \n",
       "  dropoff_neighborhood = B dropoff_neighborhood = AI dropoff_neighborhood = AE\n",
       "1 0                        0                         0                        \n",
       "2 0                        0                         0                        \n",
       "3 0                        0                         0                        \n",
       "4 0                        0                         0                        \n",
       "5 0                        0                         0                        \n",
       "  dropoff_neighborhood = AQ\n",
       "1 0                        \n",
       "2 0                        \n",
       "3 0                        \n",
       "4 0                        \n",
       "5 0                        "
      ]
     },
     "metadata": {},
     "output_type": "display_data"
    }
   ],
   "source": [
    "feature_matrix <- compute_features(features, entities)\n",
    "head(feature_matrix,5)"
   ]
  },
  {
   "cell_type": "markdown",
   "metadata": {},
   "source": [
    "### <p style=\"color:blue;font-weight: bold\">Split dataset</p>"
   ]
  },
  {
   "cell_type": "code",
   "execution_count": 10,
   "metadata": {},
   "outputs": [
    {
     "name": "stdout",
     "output_type": "stream",
     "text": [
      "[1] \"Data split successful!\"\n"
     ]
    }
   ],
   "source": [
    "train_test = get_train_test_fm(feature_matrix, trips, .75)\n",
    "\n",
    "y_train = log(train_test$y_train + 1)\n",
    "y_test = log(train_test$y_test + 1)\n",
    "X_train <- logical_to_integer(train_test$X_train)\n",
    "X_test <- logical_to_integer(train_test$X_test)\n",
    "\n",
    "trainingDataset = cbind(y_train,X_train)\n",
    "print('Data split successful!')"
   ]
  },
  {
   "cell_type": "markdown",
   "metadata": {},
   "source": [
    "### <p style=\"color:blue;font-weight: bold\">Model 1.1: Fitting Generalized Boosted Regression Model</p>"
   ]
  },
  {
   "cell_type": "code",
   "execution_count": 11,
   "metadata": {},
   "outputs": [
    {
     "name": "stderr",
     "output_type": "stream",
     "text": [
      "Warning message in gbm.fit(x = x, y = y, offset = offset, distribution = distribution, :\n",
      "“variable 5: `IS_WEEKEND(dropoff_datetime)` has no variation.”\n",
      "Warning message in gbm.fit(x = x, y = y, offset = offset, distribution = distribution, :\n",
      "“variable 6: `IS_WEEKEND(pickup_datetime)` has no variation.”\n"
     ]
    },
    {
     "name": "stdout",
     "output_type": "stream",
     "text": [
      "Iter   TrainDeviance   ValidDeviance   StepSize   Improve\n",
      "     1        0.4800             nan     0.1000    0.0640\n",
      "     2        0.4269             nan     0.1000    0.0512\n",
      "     3        0.3842             nan     0.1000    0.0419\n",
      "     4        0.3482             nan     0.1000    0.0362\n",
      "     5        0.3168             nan     0.1000    0.0313\n",
      "     6        0.2922             nan     0.1000    0.0250\n",
      "     7        0.2711             nan     0.1000    0.0216\n",
      "     8        0.2537             nan     0.1000    0.0174\n",
      "     9        0.2395             nan     0.1000    0.0140\n",
      "    10        0.2264             nan     0.1000    0.0124\n",
      "    20        0.1620             nan     0.1000    0.0033\n",
      "    40        0.1347             nan     0.1000    0.0003\n",
      "    60        0.1287             nan     0.1000    0.0001\n",
      "    80        0.1247             nan     0.1000    0.0000\n",
      "   100        0.1208             nan     0.1000    0.0000\n",
      "\n"
     ]
    }
   ],
   "source": [
    "gbm <- gbm(y_train  ~ ., data = trainingDataset,verbose = TRUE,\n",
    "           n.trees = 100,\n",
    "           distribution=\"gaussian\",\n",
    "           interaction.depth = 3,\n",
    "           n.minobsinnode = 1,\n",
    "           shrinkage = 0.1)"
   ]
  },
  {
   "cell_type": "markdown",
   "metadata": {},
   "source": [
    "### <p style=\"color:blue;font-weight: bold\">Model 1.1: Results from predictions</p>"
   ]
  },
  {
   "cell_type": "markdown",
   "metadata": {},
   "source": [
    "<b>R^2</b>"
   ]
  },
  {
   "cell_type": "code",
   "execution_count": 12,
   "metadata": {},
   "outputs": [
    {
     "data": {
      "text/html": [
       "'R Squared: 0.6729'"
      ],
      "text/latex": [
       "'R Squared: 0.6729'"
      ],
      "text/markdown": [
       "'R Squared: 0.6729'"
      ],
      "text/plain": [
       "[1] \"R Squared: 0.6729\""
      ]
     },
     "metadata": {},
     "output_type": "display_data"
    }
   ],
   "source": [
    "predicted_gbm <- predict(gbm,X_test,n.trees = 100)\n",
    "paste(\"R Squared:\",round(r_squared(y_test,predicted_gbm),4))"
   ]
  },
  {
   "cell_type": "markdown",
   "metadata": {},
   "source": [
    "### <p style=\"color:blue;font-weight: bold\">Model 1.1: Feature influence</p>"
   ]
  },
  {
   "cell_type": "code",
   "execution_count": 13,
   "metadata": {},
   "outputs": [
    {
     "name": "stdout",
     "output_type": "stream",
     "text": [
      "n.trees not given. Using 100 trees.\n",
      "n.trees not given. Using 100 trees.\n"
     ]
    },
    {
     "data": {
      "text/html": [
       "<style>\n",
       ".dl-inline {width: auto; margin:0; padding: 0}\n",
       ".dl-inline>dt, .dl-inline>dd {float: none; width: auto; display: inline-block}\n",
       ".dl-inline>dt::after {content: \":\\0020\"; padding-right: .5ex}\n",
       ".dl-inline>dt:not(:first-of-type) {padding-left: .5ex}\n",
       "</style><dl class=dl-inline><dt>trip_distance</dt><dd>0.909</dd><dt>dropoff_neighborhoods.longitude</dt><dd>0.0288</dd><dt>dropoff_neighborhoods.latitude</dt><dd>0.0233</dd><dt>pickup_neighborhoods.longitude</dt><dd>0.0062</dd><dt>pickup_neighborhoods.latitude</dt><dd>0.0056</dd><dt>`dropoff_neighborhood = Z`</dt><dd>0.0031</dd><dt>`dropoff_neighborhood = AA`</dt><dd>0.0027</dd><dt>payment_type</dt><dd>0.0023</dd><dt>`dropoff_neighborhood = AU`</dt><dd>0.0017</dd><dt>`pickup_neighborhood = D`</dt><dd>0.0015</dd><dt>`pickup_neighborhood = AG`</dt><dd>0.0015</dd><dt>`pickup_neighborhood = AR`</dt><dd>0.0014</dd><dt>`pickup_neighborhood = AU`</dt><dd>0.0014</dd><dt>`dropoff_neighborhood = E`</dt><dd>0.0011</dd><dt>`dropoff_neighborhood = AC`</dt><dd>0.0011</dd><dt>`pickup_neighborhood = AB`</dt><dd>0.001</dd><dt>`pickup_neighborhood = X`</dt><dd>7e-04</dd><dt>`dropoff_neighborhood = H`</dt><dd>7e-04</dd><dt>`dropoff_neighborhood = AO`</dt><dd>7e-04</dd><dt>`dropoff_neighborhood = D`</dt><dd>6e-04</dd><dt>vendor_id</dt><dd>6e-04</dd><dt>`pickup_neighborhood = AA`</dt><dd>6e-04</dd><dt>`pickup_neighborhood = Z`</dt><dd>5e-04</dd><dt>`dropoff_neighborhood = X`</dt><dd>5e-04</dd><dt>`pickup_neighborhood = V`</dt><dd>5e-04</dd></dl>\n"
      ],
      "text/latex": [
       "\\begin{description*}\n",
       "\\item[trip\\textbackslash{}\\_distance] 0.909\n",
       "\\item[dropoff\\textbackslash{}\\_neighborhoods.longitude] 0.0288\n",
       "\\item[dropoff\\textbackslash{}\\_neighborhoods.latitude] 0.0233\n",
       "\\item[pickup\\textbackslash{}\\_neighborhoods.longitude] 0.0062\n",
       "\\item[pickup\\textbackslash{}\\_neighborhoods.latitude] 0.0056\n",
       "\\item[`dropoff\\textbackslash{}\\_neighborhood = Z`] 0.0031\n",
       "\\item[`dropoff\\textbackslash{}\\_neighborhood = AA`] 0.0027\n",
       "\\item[payment\\textbackslash{}\\_type] 0.0023\n",
       "\\item[`dropoff\\textbackslash{}\\_neighborhood = AU`] 0.0017\n",
       "\\item[`pickup\\textbackslash{}\\_neighborhood = D`] 0.0015\n",
       "\\item[`pickup\\textbackslash{}\\_neighborhood = AG`] 0.0015\n",
       "\\item[`pickup\\textbackslash{}\\_neighborhood = AR`] 0.0014\n",
       "\\item[`pickup\\textbackslash{}\\_neighborhood = AU`] 0.0014\n",
       "\\item[`dropoff\\textbackslash{}\\_neighborhood = E`] 0.0011\n",
       "\\item[`dropoff\\textbackslash{}\\_neighborhood = AC`] 0.0011\n",
       "\\item[`pickup\\textbackslash{}\\_neighborhood = AB`] 0.001\n",
       "\\item[`pickup\\textbackslash{}\\_neighborhood = X`] 7e-04\n",
       "\\item[`dropoff\\textbackslash{}\\_neighborhood = H`] 7e-04\n",
       "\\item[`dropoff\\textbackslash{}\\_neighborhood = AO`] 7e-04\n",
       "\\item[`dropoff\\textbackslash{}\\_neighborhood = D`] 6e-04\n",
       "\\item[vendor\\textbackslash{}\\_id] 6e-04\n",
       "\\item[`pickup\\textbackslash{}\\_neighborhood = AA`] 6e-04\n",
       "\\item[`pickup\\textbackslash{}\\_neighborhood = Z`] 5e-04\n",
       "\\item[`dropoff\\textbackslash{}\\_neighborhood = X`] 5e-04\n",
       "\\item[`pickup\\textbackslash{}\\_neighborhood = V`] 5e-04\n",
       "\\end{description*}\n"
      ],
      "text/markdown": [
       "trip_distance\n",
       ":   0.909dropoff_neighborhoods.longitude\n",
       ":   0.0288dropoff_neighborhoods.latitude\n",
       ":   0.0233pickup_neighborhoods.longitude\n",
       ":   0.0062pickup_neighborhoods.latitude\n",
       ":   0.0056`dropoff_neighborhood = Z`\n",
       ":   0.0031`dropoff_neighborhood = AA`\n",
       ":   0.0027payment_type\n",
       ":   0.0023`dropoff_neighborhood = AU`\n",
       ":   0.0017`pickup_neighborhood = D`\n",
       ":   0.0015`pickup_neighborhood = AG`\n",
       ":   0.0015`pickup_neighborhood = AR`\n",
       ":   0.0014`pickup_neighborhood = AU`\n",
       ":   0.0014`dropoff_neighborhood = E`\n",
       ":   0.0011`dropoff_neighborhood = AC`\n",
       ":   0.0011`pickup_neighborhood = AB`\n",
       ":   0.001`pickup_neighborhood = X`\n",
       ":   7e-04`dropoff_neighborhood = H`\n",
       ":   7e-04`dropoff_neighborhood = AO`\n",
       ":   7e-04`dropoff_neighborhood = D`\n",
       ":   6e-04vendor_id\n",
       ":   6e-04`pickup_neighborhood = AA`\n",
       ":   6e-04`pickup_neighborhood = Z`\n",
       ":   5e-04`dropoff_neighborhood = X`\n",
       ":   5e-04`pickup_neighborhood = V`\n",
       ":   5e-04\n",
       "\n"
      ],
      "text/plain": [
       "                  trip_distance dropoff_neighborhoods.longitude \n",
       "                         0.9090                          0.0288 \n",
       " dropoff_neighborhoods.latitude  pickup_neighborhoods.longitude \n",
       "                         0.0233                          0.0062 \n",
       "  pickup_neighborhoods.latitude      `dropoff_neighborhood = Z` \n",
       "                         0.0056                          0.0031 \n",
       "    `dropoff_neighborhood = AA`                    payment_type \n",
       "                         0.0027                          0.0023 \n",
       "    `dropoff_neighborhood = AU`       `pickup_neighborhood = D` \n",
       "                         0.0017                          0.0015 \n",
       "     `pickup_neighborhood = AG`      `pickup_neighborhood = AR` \n",
       "                         0.0015                          0.0014 \n",
       "     `pickup_neighborhood = AU`      `dropoff_neighborhood = E` \n",
       "                         0.0014                          0.0011 \n",
       "    `dropoff_neighborhood = AC`      `pickup_neighborhood = AB` \n",
       "                         0.0011                          0.0010 \n",
       "      `pickup_neighborhood = X`      `dropoff_neighborhood = H` \n",
       "                         0.0007                          0.0007 \n",
       "    `dropoff_neighborhood = AO`      `dropoff_neighborhood = D` \n",
       "                         0.0007                          0.0006 \n",
       "                      vendor_id      `pickup_neighborhood = AA` \n",
       "                         0.0006                          0.0006 \n",
       "      `pickup_neighborhood = Z`      `dropoff_neighborhood = X` \n",
       "                         0.0005                          0.0005 \n",
       "      `pickup_neighborhood = V` \n",
       "                         0.0005 "
      ]
     },
     "metadata": {},
     "output_type": "display_data"
    }
   ],
   "source": [
    "head(round(relative.influence(gbm,sort= TRUE)/sum(relative.influence(gbm)),4),25)"
   ]
  },
  {
   "cell_type": "markdown",
   "metadata": {},
   "source": [
    "## <u>1.2 Second Model</u>"
   ]
  },
  {
   "cell_type": "markdown",
   "metadata": {},
   "source": [
    "### <p style=\"color:blue;font-weight: bold\">Transform Primitives</p>"
   ]
  },
  {
   "cell_type": "code",
   "execution_count": 14,
   "metadata": {},
   "outputs": [
    {
     "name": "stdout",
     "output_type": "stream",
     "text": [
      "[1] \"Number of features: 22\"\n"
     ]
    }
   ],
   "source": [
    "trans_primitives <- c(\"minute\",\"day\",\"week\",\"month\",\"weekday\",\"is_weekend\")\n",
    "features <- dfs(\n",
    "  entityset=entities,\n",
    "  target_entity=\"trips\",\n",
    "  trans_primitives=trans_primitives,\n",
    "  agg_primitives=NULL,\n",
    "  ignore_variables= list(trips=c(\"pickup_latitude\", \"pickup_longitude\",\n",
    "                                 \"dropoff_latitude\", \"dropoff_longitude\", \"trip_duration\")),\n",
    "  features_only=TRUE\n",
    ")\n",
    "print(paste(\"Number of features:\",length(features)))"
   ]
  },
  {
   "cell_type": "markdown",
   "metadata": {},
   "source": [
    "### <p style=\"color:blue;font-weight: bold\">Dataset Creation</p>"
   ]
  },
  {
   "cell_type": "code",
   "execution_count": 15,
   "metadata": {},
   "outputs": [
    {
     "name": "stdout",
     "output_type": "stream",
     "text": [
      "[1] \"Finishing computing...\"\n"
     ]
    },
    {
     "data": {
      "text/html": [
       "<table>\n",
       "<caption>A data.frame: 5 × 118</caption>\n",
       "<thead>\n",
       "\t<tr><th></th><th scope=col>vendor_id</th><th scope=col>passenger_count</th><th scope=col>trip_distance</th><th scope=col>payment_type</th><th scope=col>MINUTE(dropoff_datetime)</th><th scope=col>MINUTE(pickup_datetime)</th><th scope=col>DAY(dropoff_datetime)</th><th scope=col>DAY(pickup_datetime)</th><th scope=col>WEEK(dropoff_datetime)</th><th scope=col>WEEK(pickup_datetime)</th><th scope=col>⋯</th><th scope=col>dropoff_neighborhood = S</th><th scope=col>dropoff_neighborhood = AJ</th><th scope=col>dropoff_neighborhood = L</th><th scope=col>dropoff_neighborhood = M</th><th scope=col>dropoff_neighborhood = AF</th><th scope=col>dropoff_neighborhood = T</th><th scope=col>dropoff_neighborhood = B</th><th scope=col>dropoff_neighborhood = AI</th><th scope=col>dropoff_neighborhood = AE</th><th scope=col>dropoff_neighborhood = AQ</th></tr>\n",
       "\t<tr><th></th><th scope=col>&lt;dbl&gt;</th><th scope=col>&lt;dbl&gt;</th><th scope=col>&lt;dbl&gt;</th><th scope=col>&lt;dbl&gt;</th><th scope=col>&lt;dbl&gt;</th><th scope=col>&lt;dbl&gt;</th><th scope=col>&lt;dbl&gt;</th><th scope=col>&lt;dbl&gt;</th><th scope=col>&lt;dbl&gt;</th><th scope=col>&lt;dbl&gt;</th><th scope=col>⋯</th><th scope=col>&lt;dbl&gt;</th><th scope=col>&lt;dbl&gt;</th><th scope=col>&lt;dbl&gt;</th><th scope=col>&lt;dbl&gt;</th><th scope=col>&lt;dbl&gt;</th><th scope=col>&lt;dbl&gt;</th><th scope=col>&lt;dbl&gt;</th><th scope=col>&lt;dbl&gt;</th><th scope=col>&lt;dbl&gt;</th><th scope=col>&lt;dbl&gt;</th></tr>\n",
       "</thead>\n",
       "<tbody>\n",
       "\t<tr><th scope=row>1</th><td>2</td><td>1</td><td> 2.46</td><td>1</td><td>17</td><td>0</td><td>2</td><td>2</td><td>13</td><td>13</td><td>⋯</td><td>0</td><td>0</td><td>0</td><td>0</td><td>0</td><td>0</td><td>0</td><td>0</td><td>0</td><td>0</td></tr>\n",
       "\t<tr><th scope=row>2</th><td>1</td><td>2</td><td> 7.90</td><td>1</td><td>24</td><td>0</td><td>2</td><td>2</td><td>13</td><td>13</td><td>⋯</td><td>0</td><td>0</td><td>0</td><td>0</td><td>0</td><td>0</td><td>0</td><td>0</td><td>0</td><td>0</td></tr>\n",
       "\t<tr><th scope=row>3</th><td>1</td><td>1</td><td> 1.00</td><td>1</td><td>19</td><td>0</td><td>2</td><td>2</td><td>13</td><td>13</td><td>⋯</td><td>0</td><td>0</td><td>0</td><td>0</td><td>0</td><td>0</td><td>0</td><td>0</td><td>0</td><td>0</td></tr>\n",
       "\t<tr><th scope=row>4</th><td>2</td><td>1</td><td> 0.02</td><td>2</td><td> 1</td><td>0</td><td>2</td><td>2</td><td>13</td><td>13</td><td>⋯</td><td>0</td><td>0</td><td>0</td><td>0</td><td>0</td><td>0</td><td>0</td><td>0</td><td>0</td><td>0</td></tr>\n",
       "\t<tr><th scope=row>5</th><td>1</td><td>2</td><td>19.00</td><td>1</td><td>58</td><td>1</td><td>2</td><td>2</td><td>13</td><td>13</td><td>⋯</td><td>0</td><td>0</td><td>0</td><td>0</td><td>0</td><td>0</td><td>0</td><td>0</td><td>0</td><td>0</td></tr>\n",
       "</tbody>\n",
       "</table>\n"
      ],
      "text/latex": [
       "A data.frame: 5 × 118\n",
       "\\begin{tabular}{r|lllllllllllllllllllll}\n",
       "  & vendor\\_id & passenger\\_count & trip\\_distance & payment\\_type & MINUTE(dropoff\\_datetime) & MINUTE(pickup\\_datetime) & DAY(dropoff\\_datetime) & DAY(pickup\\_datetime) & WEEK(dropoff\\_datetime) & WEEK(pickup\\_datetime) & ⋯ & dropoff\\_neighborhood = S & dropoff\\_neighborhood = AJ & dropoff\\_neighborhood = L & dropoff\\_neighborhood = M & dropoff\\_neighborhood = AF & dropoff\\_neighborhood = T & dropoff\\_neighborhood = B & dropoff\\_neighborhood = AI & dropoff\\_neighborhood = AE & dropoff\\_neighborhood = AQ\\\\\n",
       "  & <dbl> & <dbl> & <dbl> & <dbl> & <dbl> & <dbl> & <dbl> & <dbl> & <dbl> & <dbl> & ⋯ & <dbl> & <dbl> & <dbl> & <dbl> & <dbl> & <dbl> & <dbl> & <dbl> & <dbl> & <dbl>\\\\\n",
       "\\hline\n",
       "\t1 & 2 & 1 &  2.46 & 1 & 17 & 0 & 2 & 2 & 13 & 13 & ⋯ & 0 & 0 & 0 & 0 & 0 & 0 & 0 & 0 & 0 & 0\\\\\n",
       "\t2 & 1 & 2 &  7.90 & 1 & 24 & 0 & 2 & 2 & 13 & 13 & ⋯ & 0 & 0 & 0 & 0 & 0 & 0 & 0 & 0 & 0 & 0\\\\\n",
       "\t3 & 1 & 1 &  1.00 & 1 & 19 & 0 & 2 & 2 & 13 & 13 & ⋯ & 0 & 0 & 0 & 0 & 0 & 0 & 0 & 0 & 0 & 0\\\\\n",
       "\t4 & 2 & 1 &  0.02 & 2 &  1 & 0 & 2 & 2 & 13 & 13 & ⋯ & 0 & 0 & 0 & 0 & 0 & 0 & 0 & 0 & 0 & 0\\\\\n",
       "\t5 & 1 & 2 & 19.00 & 1 & 58 & 1 & 2 & 2 & 13 & 13 & ⋯ & 0 & 0 & 0 & 0 & 0 & 0 & 0 & 0 & 0 & 0\\\\\n",
       "\\end{tabular}\n"
      ],
      "text/markdown": [
       "\n",
       "A data.frame: 5 × 118\n",
       "\n",
       "| <!--/--> | vendor_id &lt;dbl&gt; | passenger_count &lt;dbl&gt; | trip_distance &lt;dbl&gt; | payment_type &lt;dbl&gt; | MINUTE(dropoff_datetime) &lt;dbl&gt; | MINUTE(pickup_datetime) &lt;dbl&gt; | DAY(dropoff_datetime) &lt;dbl&gt; | DAY(pickup_datetime) &lt;dbl&gt; | WEEK(dropoff_datetime) &lt;dbl&gt; | WEEK(pickup_datetime) &lt;dbl&gt; | ⋯ ⋯ | dropoff_neighborhood = S &lt;dbl&gt; | dropoff_neighborhood = AJ &lt;dbl&gt; | dropoff_neighborhood = L &lt;dbl&gt; | dropoff_neighborhood = M &lt;dbl&gt; | dropoff_neighborhood = AF &lt;dbl&gt; | dropoff_neighborhood = T &lt;dbl&gt; | dropoff_neighborhood = B &lt;dbl&gt; | dropoff_neighborhood = AI &lt;dbl&gt; | dropoff_neighborhood = AE &lt;dbl&gt; | dropoff_neighborhood = AQ &lt;dbl&gt; |\n",
       "|---|---|---|---|---|---|---|---|---|---|---|---|---|---|---|---|---|---|---|---|---|---|\n",
       "| 1 | 2 | 1 |  2.46 | 1 | 17 | 0 | 2 | 2 | 13 | 13 | ⋯ | 0 | 0 | 0 | 0 | 0 | 0 | 0 | 0 | 0 | 0 |\n",
       "| 2 | 1 | 2 |  7.90 | 1 | 24 | 0 | 2 | 2 | 13 | 13 | ⋯ | 0 | 0 | 0 | 0 | 0 | 0 | 0 | 0 | 0 | 0 |\n",
       "| 3 | 1 | 1 |  1.00 | 1 | 19 | 0 | 2 | 2 | 13 | 13 | ⋯ | 0 | 0 | 0 | 0 | 0 | 0 | 0 | 0 | 0 | 0 |\n",
       "| 4 | 2 | 1 |  0.02 | 2 |  1 | 0 | 2 | 2 | 13 | 13 | ⋯ | 0 | 0 | 0 | 0 | 0 | 0 | 0 | 0 | 0 | 0 |\n",
       "| 5 | 1 | 2 | 19.00 | 1 | 58 | 1 | 2 | 2 | 13 | 13 | ⋯ | 0 | 0 | 0 | 0 | 0 | 0 | 0 | 0 | 0 | 0 |\n",
       "\n"
      ],
      "text/plain": [
       "  vendor_id passenger_count trip_distance payment_type MINUTE(dropoff_datetime)\n",
       "1 2         1                2.46         1            17                      \n",
       "2 1         2                7.90         1            24                      \n",
       "3 1         1                1.00         1            19                      \n",
       "4 2         1                0.02         2             1                      \n",
       "5 1         2               19.00         1            58                      \n",
       "  MINUTE(pickup_datetime) DAY(dropoff_datetime) DAY(pickup_datetime)\n",
       "1 0                       2                     2                   \n",
       "2 0                       2                     2                   \n",
       "3 0                       2                     2                   \n",
       "4 0                       2                     2                   \n",
       "5 1                       2                     2                   \n",
       "  WEEK(dropoff_datetime) WEEK(pickup_datetime) ⋯ dropoff_neighborhood = S\n",
       "1 13                     13                    ⋯ 0                       \n",
       "2 13                     13                    ⋯ 0                       \n",
       "3 13                     13                    ⋯ 0                       \n",
       "4 13                     13                    ⋯ 0                       \n",
       "5 13                     13                    ⋯ 0                       \n",
       "  dropoff_neighborhood = AJ dropoff_neighborhood = L dropoff_neighborhood = M\n",
       "1 0                         0                        0                       \n",
       "2 0                         0                        0                       \n",
       "3 0                         0                        0                       \n",
       "4 0                         0                        0                       \n",
       "5 0                         0                        0                       \n",
       "  dropoff_neighborhood = AF dropoff_neighborhood = T dropoff_neighborhood = B\n",
       "1 0                         0                        0                       \n",
       "2 0                         0                        0                       \n",
       "3 0                         0                        0                       \n",
       "4 0                         0                        0                       \n",
       "5 0                         0                        0                       \n",
       "  dropoff_neighborhood = AI dropoff_neighborhood = AE dropoff_neighborhood = AQ\n",
       "1 0                         0                         0                        \n",
       "2 0                         0                         0                        \n",
       "3 0                         0                         0                        \n",
       "4 0                         0                         0                        \n",
       "5 0                         0                         0                        "
      ]
     },
     "metadata": {},
     "output_type": "display_data"
    }
   ],
   "source": [
    "feature_matrix <- compute_features(features, entities)\n",
    "head(feature_matrix,5)"
   ]
  },
  {
   "cell_type": "markdown",
   "metadata": {},
   "source": [
    "### <p style=\"color:blue;font-weight: bold\">Split dataset</p>"
   ]
  },
  {
   "cell_type": "code",
   "execution_count": 16,
   "metadata": {},
   "outputs": [
    {
     "name": "stdout",
     "output_type": "stream",
     "text": [
      "[1] \"Data split successful!\"\n"
     ]
    }
   ],
   "source": [
    "train_test = get_train_test_fm(feature_matrix, trips, .75)\n",
    "\n",
    "y_train = log(train_test$y_train + 1)\n",
    "y_test = log(train_test$y_test + 1)\n",
    "X_train <- logical_to_integer(train_test$X_train)\n",
    "X_test <- logical_to_integer(train_test$X_test)\n",
    "\n",
    "trainingDataset = cbind(y_train,X_train)\n",
    "print('Data split successful!')"
   ]
  },
  {
   "cell_type": "markdown",
   "metadata": {},
   "source": [
    "### <p style=\"color:blue;font-weight: bold\">Model 1.2: Fitting Generalized Boosted Regression Model</p>"
   ]
  },
  {
   "cell_type": "code",
   "execution_count": 17,
   "metadata": {},
   "outputs": [
    {
     "name": "stderr",
     "output_type": "stream",
     "text": [
      "Warning message in gbm.fit(x = x, y = y, offset = offset, distribution = distribution, :\n",
      "“variable 9: `WEEK(dropoff_datetime)` has no variation.”\n",
      "Warning message in gbm.fit(x = x, y = y, offset = offset, distribution = distribution, :\n",
      "“variable 10: `WEEK(pickup_datetime)` has no variation.”\n",
      "Warning message in gbm.fit(x = x, y = y, offset = offset, distribution = distribution, :\n",
      "“variable 11: `MONTH(dropoff_datetime)` has no variation.”\n",
      "Warning message in gbm.fit(x = x, y = y, offset = offset, distribution = distribution, :\n",
      "“variable 12: `MONTH(pickup_datetime)` has no variation.”\n",
      "Warning message in gbm.fit(x = x, y = y, offset = offset, distribution = distribution, :\n",
      "“variable 15: `IS_WEEKEND(dropoff_datetime)` has no variation.”\n",
      "Warning message in gbm.fit(x = x, y = y, offset = offset, distribution = distribution, :\n",
      "“variable 16: `IS_WEEKEND(pickup_datetime)` has no variation.”\n"
     ]
    },
    {
     "name": "stdout",
     "output_type": "stream",
     "text": [
      "Iter   TrainDeviance   ValidDeviance   StepSize   Improve\n",
      "     1        0.4804             nan     0.1000    0.0633\n",
      "     2        0.4271             nan     0.1000    0.0526\n",
      "     3        0.3834             nan     0.1000    0.0419\n",
      "     4        0.3474             nan     0.1000    0.0349\n",
      "     5        0.3163             nan     0.1000    0.0307\n",
      "     6        0.2910             nan     0.1000    0.0246\n",
      "     7        0.2700             nan     0.1000    0.0208\n",
      "     8        0.2524             nan     0.1000    0.0172\n",
      "     9        0.2371             nan     0.1000    0.0150\n",
      "    10        0.2241             nan     0.1000    0.0118\n",
      "    20        0.1615             nan     0.1000    0.0034\n",
      "    40        0.1344             nan     0.1000    0.0002\n",
      "    60        0.1274             nan     0.1000   -0.0001\n",
      "    80        0.1231             nan     0.1000    0.0000\n",
      "   100        0.1204             nan     0.1000    0.0000\n",
      "\n"
     ]
    }
   ],
   "source": [
    "gbm <- gbm(y_train  ~ ., data = trainingDataset,verbose = TRUE,\n",
    "           n.trees = 100,\n",
    "           distribution=\"gaussian\",\n",
    "           interaction.depth = 3,\n",
    "           n.minobsinnode = 1,\n",
    "           shrinkage = 0.1)"
   ]
  },
  {
   "cell_type": "markdown",
   "metadata": {},
   "source": [
    "### <p style=\"color:blue;font-weight: bold\">Model 1.2: Results from predictions</p>"
   ]
  },
  {
   "cell_type": "markdown",
   "metadata": {},
   "source": [
    "<b>R^2</b>"
   ]
  },
  {
   "cell_type": "code",
   "execution_count": 18,
   "metadata": {},
   "outputs": [
    {
     "data": {
      "text/html": [
       "'R Squared: 0.7134'"
      ],
      "text/latex": [
       "'R Squared: 0.7134'"
      ],
      "text/markdown": [
       "'R Squared: 0.7134'"
      ],
      "text/plain": [
       "[1] \"R Squared: 0.7134\""
      ]
     },
     "metadata": {},
     "output_type": "display_data"
    }
   ],
   "source": [
    "predicted_gbm <- predict(gbm,X_test,n.trees = 100)\n",
    "paste(\"R Squared:\",round(r_squared(y_test,predicted_gbm),4))"
   ]
  },
  {
   "cell_type": "markdown",
   "metadata": {},
   "source": [
    "### <p style=\"color:blue;font-weight: bold\">Model 1.2: Feature influence</p>"
   ]
  },
  {
   "cell_type": "code",
   "execution_count": 19,
   "metadata": {},
   "outputs": [
    {
     "name": "stdout",
     "output_type": "stream",
     "text": [
      "n.trees not given. Using 100 trees.\n",
      "n.trees not given. Using 100 trees.\n"
     ]
    },
    {
     "data": {
      "text/html": [
       "<style>\n",
       ".dl-inline {width: auto; margin:0; padding: 0}\n",
       ".dl-inline>dt, .dl-inline>dd {float: none; width: auto; display: inline-block}\n",
       ".dl-inline>dt::after {content: \":\\0020\"; padding-right: .5ex}\n",
       ".dl-inline>dt:not(:first-of-type) {padding-left: .5ex}\n",
       "</style><dl class=dl-inline><dt>trip_distance</dt><dd>0.9002</dd><dt>dropoff_neighborhoods.longitude</dt><dd>0.0303</dd><dt>dropoff_neighborhoods.latitude</dt><dd>0.0187</dd><dt>pickup_neighborhoods.longitude</dt><dd>0.0145</dd><dt>pickup_neighborhoods.latitude</dt><dd>0.0095</dd><dt>`MINUTE(dropoff_datetime)`</dt><dd>0.004</dd><dt>`dropoff_neighborhood = AA`</dt><dd>0.0028</dd><dt>`DAY(dropoff_datetime)`</dt><dd>0.0024</dd><dt>`DAY(pickup_datetime)`</dt><dd>0.0022</dd><dt>`dropoff_neighborhood = AU`</dt><dd>0.0019</dd><dt>payment_type</dt><dd>0.0018</dd><dt>`dropoff_neighborhood = AC`</dt><dd>0.0017</dd><dt>`dropoff_neighborhood = E`</dt><dd>0.0012</dd><dt>`dropoff_neighborhood = D`</dt><dd>0.001</dd><dt>`dropoff_neighborhood = H`</dt><dd>8e-04</dd><dt>`pickup_neighborhood = AU`</dt><dd>8e-04</dd><dt>`MINUTE(pickup_datetime)`</dt><dd>7e-04</dd><dt>passenger_count</dt><dd>7e-04</dd><dt>`pickup_neighborhood = AB`</dt><dd>6e-04</dd><dt>`pickup_neighborhood = D`</dt><dd>5e-04</dd><dt>`pickup_neighborhood = AP`</dt><dd>5e-04</dd><dt>`dropoff_neighborhood = X`</dt><dd>4e-04</dd><dt>`pickup_neighborhood = AN`</dt><dd>4e-04</dd><dt>`pickup_neighborhood = X`</dt><dd>4e-04</dd><dt>`pickup_neighborhood = S`</dt><dd>3e-04</dd></dl>\n"
      ],
      "text/latex": [
       "\\begin{description*}\n",
       "\\item[trip\\textbackslash{}\\_distance] 0.9002\n",
       "\\item[dropoff\\textbackslash{}\\_neighborhoods.longitude] 0.0303\n",
       "\\item[dropoff\\textbackslash{}\\_neighborhoods.latitude] 0.0187\n",
       "\\item[pickup\\textbackslash{}\\_neighborhoods.longitude] 0.0145\n",
       "\\item[pickup\\textbackslash{}\\_neighborhoods.latitude] 0.0095\n",
       "\\item[`MINUTE(dropoff\\textbackslash{}\\_datetime)`] 0.004\n",
       "\\item[`dropoff\\textbackslash{}\\_neighborhood = AA`] 0.0028\n",
       "\\item[`DAY(dropoff\\textbackslash{}\\_datetime)`] 0.0024\n",
       "\\item[`DAY(pickup\\textbackslash{}\\_datetime)`] 0.0022\n",
       "\\item[`dropoff\\textbackslash{}\\_neighborhood = AU`] 0.0019\n",
       "\\item[payment\\textbackslash{}\\_type] 0.0018\n",
       "\\item[`dropoff\\textbackslash{}\\_neighborhood = AC`] 0.0017\n",
       "\\item[`dropoff\\textbackslash{}\\_neighborhood = E`] 0.0012\n",
       "\\item[`dropoff\\textbackslash{}\\_neighborhood = D`] 0.001\n",
       "\\item[`dropoff\\textbackslash{}\\_neighborhood = H`] 8e-04\n",
       "\\item[`pickup\\textbackslash{}\\_neighborhood = AU`] 8e-04\n",
       "\\item[`MINUTE(pickup\\textbackslash{}\\_datetime)`] 7e-04\n",
       "\\item[passenger\\textbackslash{}\\_count] 7e-04\n",
       "\\item[`pickup\\textbackslash{}\\_neighborhood = AB`] 6e-04\n",
       "\\item[`pickup\\textbackslash{}\\_neighborhood = D`] 5e-04\n",
       "\\item[`pickup\\textbackslash{}\\_neighborhood = AP`] 5e-04\n",
       "\\item[`dropoff\\textbackslash{}\\_neighborhood = X`] 4e-04\n",
       "\\item[`pickup\\textbackslash{}\\_neighborhood = AN`] 4e-04\n",
       "\\item[`pickup\\textbackslash{}\\_neighborhood = X`] 4e-04\n",
       "\\item[`pickup\\textbackslash{}\\_neighborhood = S`] 3e-04\n",
       "\\end{description*}\n"
      ],
      "text/markdown": [
       "trip_distance\n",
       ":   0.9002dropoff_neighborhoods.longitude\n",
       ":   0.0303dropoff_neighborhoods.latitude\n",
       ":   0.0187pickup_neighborhoods.longitude\n",
       ":   0.0145pickup_neighborhoods.latitude\n",
       ":   0.0095`MINUTE(dropoff_datetime)`\n",
       ":   0.004`dropoff_neighborhood = AA`\n",
       ":   0.0028`DAY(dropoff_datetime)`\n",
       ":   0.0024`DAY(pickup_datetime)`\n",
       ":   0.0022`dropoff_neighborhood = AU`\n",
       ":   0.0019payment_type\n",
       ":   0.0018`dropoff_neighborhood = AC`\n",
       ":   0.0017`dropoff_neighborhood = E`\n",
       ":   0.0012`dropoff_neighborhood = D`\n",
       ":   0.001`dropoff_neighborhood = H`\n",
       ":   8e-04`pickup_neighborhood = AU`\n",
       ":   8e-04`MINUTE(pickup_datetime)`\n",
       ":   7e-04passenger_count\n",
       ":   7e-04`pickup_neighborhood = AB`\n",
       ":   6e-04`pickup_neighborhood = D`\n",
       ":   5e-04`pickup_neighborhood = AP`\n",
       ":   5e-04`dropoff_neighborhood = X`\n",
       ":   4e-04`pickup_neighborhood = AN`\n",
       ":   4e-04`pickup_neighborhood = X`\n",
       ":   4e-04`pickup_neighborhood = S`\n",
       ":   3e-04\n",
       "\n"
      ],
      "text/plain": [
       "                  trip_distance dropoff_neighborhoods.longitude \n",
       "                         0.9002                          0.0303 \n",
       " dropoff_neighborhoods.latitude  pickup_neighborhoods.longitude \n",
       "                         0.0187                          0.0145 \n",
       "  pickup_neighborhoods.latitude      `MINUTE(dropoff_datetime)` \n",
       "                         0.0095                          0.0040 \n",
       "    `dropoff_neighborhood = AA`         `DAY(dropoff_datetime)` \n",
       "                         0.0028                          0.0024 \n",
       "         `DAY(pickup_datetime)`     `dropoff_neighborhood = AU` \n",
       "                         0.0022                          0.0019 \n",
       "                   payment_type     `dropoff_neighborhood = AC` \n",
       "                         0.0018                          0.0017 \n",
       "     `dropoff_neighborhood = E`      `dropoff_neighborhood = D` \n",
       "                         0.0012                          0.0010 \n",
       "     `dropoff_neighborhood = H`      `pickup_neighborhood = AU` \n",
       "                         0.0008                          0.0008 \n",
       "      `MINUTE(pickup_datetime)`                 passenger_count \n",
       "                         0.0007                          0.0007 \n",
       "     `pickup_neighborhood = AB`       `pickup_neighborhood = D` \n",
       "                         0.0006                          0.0005 \n",
       "     `pickup_neighborhood = AP`      `dropoff_neighborhood = X` \n",
       "                         0.0005                          0.0004 \n",
       "     `pickup_neighborhood = AN`       `pickup_neighborhood = X` \n",
       "                         0.0004                          0.0004 \n",
       "      `pickup_neighborhood = S` \n",
       "                         0.0003 "
      ]
     },
     "metadata": {},
     "output_type": "display_data"
    }
   ],
   "source": [
    "head(round(relative.influence(gbm,sort= TRUE)/sum(relative.influence(gbm)),4),25)"
   ]
  },
  {
   "cell_type": "markdown",
   "metadata": {},
   "source": [
    "## <u>1.3 Third Model</u>"
   ]
  },
  {
   "cell_type": "markdown",
   "metadata": {},
   "source": [
    "### <p style=\"color:blue;font-weight: bold\">Transform Primitives</p>"
   ]
  },
  {
   "cell_type": "code",
   "execution_count": 20,
   "metadata": {},
   "outputs": [
    {
     "name": "stdout",
     "output_type": "stream",
     "text": [
      "[1] \"Number of features: 72\"\n"
     ]
    }
   ],
   "source": [
    "trans_primitives <- c(\"minute\",\"day\",\"week\",\"month\",\"weekday\",\"is_weekend\")\n",
    "aggregation_primitives = c(\"count\",\"sum\",\"mean\",\"median\",\"std\",\"max\",\"min\")\n",
    "features <- dfs(\n",
    "  entityset=entities,\n",
    "  target_entity=\"trips\",\n",
    "  trans_primitives=trans_primitives,\n",
    "  agg_primitives=aggregation_primitives,\n",
    "  ignore_variables= list(trips=c(\"pickup_latitude\", \"pickup_longitude\",\n",
    "                                 \"dropoff_latitude\", \"dropoff_longitude\", \"trip_duration\")),\n",
    "  features_only=TRUE\n",
    ")\n",
    "print(paste(\"Number of features:\",length(features)))"
   ]
  },
  {
   "cell_type": "markdown",
   "metadata": {},
   "source": [
    "### <p style=\"color:blue;font-weight: bold\">Dataset Creation</p>"
   ]
  },
  {
   "cell_type": "code",
   "execution_count": 21,
   "metadata": {},
   "outputs": [
    {
     "name": "stdout",
     "output_type": "stream",
     "text": [
      "[1] \"Finishing computing...\"\n"
     ]
    },
    {
     "data": {
      "text/html": [
       "<table>\n",
       "<caption>A data.frame: 5 × 168</caption>\n",
       "<thead>\n",
       "\t<tr><th></th><th scope=col>vendor_id</th><th scope=col>passenger_count</th><th scope=col>trip_distance</th><th scope=col>payment_type</th><th scope=col>MINUTE(dropoff_datetime)</th><th scope=col>MINUTE(pickup_datetime)</th><th scope=col>DAY(dropoff_datetime)</th><th scope=col>DAY(pickup_datetime)</th><th scope=col>WEEK(dropoff_datetime)</th><th scope=col>WEEK(pickup_datetime)</th><th scope=col>⋯</th><th scope=col>dropoff_neighborhood = S</th><th scope=col>dropoff_neighborhood = AJ</th><th scope=col>dropoff_neighborhood = L</th><th scope=col>dropoff_neighborhood = M</th><th scope=col>dropoff_neighborhood = AF</th><th scope=col>dropoff_neighborhood = T</th><th scope=col>dropoff_neighborhood = B</th><th scope=col>dropoff_neighborhood = AI</th><th scope=col>dropoff_neighborhood = AE</th><th scope=col>dropoff_neighborhood = AQ</th></tr>\n",
       "\t<tr><th></th><th scope=col>&lt;dbl&gt;</th><th scope=col>&lt;dbl&gt;</th><th scope=col>&lt;dbl&gt;</th><th scope=col>&lt;dbl&gt;</th><th scope=col>&lt;dbl&gt;</th><th scope=col>&lt;dbl&gt;</th><th scope=col>&lt;dbl&gt;</th><th scope=col>&lt;dbl&gt;</th><th scope=col>&lt;dbl&gt;</th><th scope=col>&lt;dbl&gt;</th><th scope=col>⋯</th><th scope=col>&lt;dbl&gt;</th><th scope=col>&lt;dbl&gt;</th><th scope=col>&lt;dbl&gt;</th><th scope=col>&lt;dbl&gt;</th><th scope=col>&lt;dbl&gt;</th><th scope=col>&lt;dbl&gt;</th><th scope=col>&lt;dbl&gt;</th><th scope=col>&lt;dbl&gt;</th><th scope=col>&lt;dbl&gt;</th><th scope=col>&lt;dbl&gt;</th></tr>\n",
       "</thead>\n",
       "<tbody>\n",
       "\t<tr><th scope=row>1</th><td>2</td><td>1</td><td> 2.46</td><td>1</td><td>17</td><td>0</td><td>2</td><td>2</td><td>13</td><td>13</td><td>⋯</td><td>0</td><td>0</td><td>0</td><td>0</td><td>0</td><td>0</td><td>0</td><td>0</td><td>0</td><td>0</td></tr>\n",
       "\t<tr><th scope=row>2</th><td>1</td><td>2</td><td> 7.90</td><td>1</td><td>24</td><td>0</td><td>2</td><td>2</td><td>13</td><td>13</td><td>⋯</td><td>0</td><td>0</td><td>0</td><td>0</td><td>0</td><td>0</td><td>0</td><td>0</td><td>0</td><td>0</td></tr>\n",
       "\t<tr><th scope=row>3</th><td>1</td><td>1</td><td> 1.00</td><td>1</td><td>19</td><td>0</td><td>2</td><td>2</td><td>13</td><td>13</td><td>⋯</td><td>0</td><td>0</td><td>0</td><td>0</td><td>0</td><td>0</td><td>0</td><td>0</td><td>0</td><td>0</td></tr>\n",
       "\t<tr><th scope=row>4</th><td>2</td><td>1</td><td> 0.02</td><td>2</td><td> 1</td><td>0</td><td>2</td><td>2</td><td>13</td><td>13</td><td>⋯</td><td>0</td><td>0</td><td>0</td><td>0</td><td>0</td><td>0</td><td>0</td><td>0</td><td>0</td><td>0</td></tr>\n",
       "\t<tr><th scope=row>5</th><td>1</td><td>2</td><td>19.00</td><td>1</td><td>58</td><td>1</td><td>2</td><td>2</td><td>13</td><td>13</td><td>⋯</td><td>0</td><td>0</td><td>0</td><td>0</td><td>0</td><td>0</td><td>0</td><td>0</td><td>0</td><td>0</td></tr>\n",
       "</tbody>\n",
       "</table>\n"
      ],
      "text/latex": [
       "A data.frame: 5 × 168\n",
       "\\begin{tabular}{r|lllllllllllllllllllll}\n",
       "  & vendor\\_id & passenger\\_count & trip\\_distance & payment\\_type & MINUTE(dropoff\\_datetime) & MINUTE(pickup\\_datetime) & DAY(dropoff\\_datetime) & DAY(pickup\\_datetime) & WEEK(dropoff\\_datetime) & WEEK(pickup\\_datetime) & ⋯ & dropoff\\_neighborhood = S & dropoff\\_neighborhood = AJ & dropoff\\_neighborhood = L & dropoff\\_neighborhood = M & dropoff\\_neighborhood = AF & dropoff\\_neighborhood = T & dropoff\\_neighborhood = B & dropoff\\_neighborhood = AI & dropoff\\_neighborhood = AE & dropoff\\_neighborhood = AQ\\\\\n",
       "  & <dbl> & <dbl> & <dbl> & <dbl> & <dbl> & <dbl> & <dbl> & <dbl> & <dbl> & <dbl> & ⋯ & <dbl> & <dbl> & <dbl> & <dbl> & <dbl> & <dbl> & <dbl> & <dbl> & <dbl> & <dbl>\\\\\n",
       "\\hline\n",
       "\t1 & 2 & 1 &  2.46 & 1 & 17 & 0 & 2 & 2 & 13 & 13 & ⋯ & 0 & 0 & 0 & 0 & 0 & 0 & 0 & 0 & 0 & 0\\\\\n",
       "\t2 & 1 & 2 &  7.90 & 1 & 24 & 0 & 2 & 2 & 13 & 13 & ⋯ & 0 & 0 & 0 & 0 & 0 & 0 & 0 & 0 & 0 & 0\\\\\n",
       "\t3 & 1 & 1 &  1.00 & 1 & 19 & 0 & 2 & 2 & 13 & 13 & ⋯ & 0 & 0 & 0 & 0 & 0 & 0 & 0 & 0 & 0 & 0\\\\\n",
       "\t4 & 2 & 1 &  0.02 & 2 &  1 & 0 & 2 & 2 & 13 & 13 & ⋯ & 0 & 0 & 0 & 0 & 0 & 0 & 0 & 0 & 0 & 0\\\\\n",
       "\t5 & 1 & 2 & 19.00 & 1 & 58 & 1 & 2 & 2 & 13 & 13 & ⋯ & 0 & 0 & 0 & 0 & 0 & 0 & 0 & 0 & 0 & 0\\\\\n",
       "\\end{tabular}\n"
      ],
      "text/markdown": [
       "\n",
       "A data.frame: 5 × 168\n",
       "\n",
       "| <!--/--> | vendor_id &lt;dbl&gt; | passenger_count &lt;dbl&gt; | trip_distance &lt;dbl&gt; | payment_type &lt;dbl&gt; | MINUTE(dropoff_datetime) &lt;dbl&gt; | MINUTE(pickup_datetime) &lt;dbl&gt; | DAY(dropoff_datetime) &lt;dbl&gt; | DAY(pickup_datetime) &lt;dbl&gt; | WEEK(dropoff_datetime) &lt;dbl&gt; | WEEK(pickup_datetime) &lt;dbl&gt; | ⋯ ⋯ | dropoff_neighborhood = S &lt;dbl&gt; | dropoff_neighborhood = AJ &lt;dbl&gt; | dropoff_neighborhood = L &lt;dbl&gt; | dropoff_neighborhood = M &lt;dbl&gt; | dropoff_neighborhood = AF &lt;dbl&gt; | dropoff_neighborhood = T &lt;dbl&gt; | dropoff_neighborhood = B &lt;dbl&gt; | dropoff_neighborhood = AI &lt;dbl&gt; | dropoff_neighborhood = AE &lt;dbl&gt; | dropoff_neighborhood = AQ &lt;dbl&gt; |\n",
       "|---|---|---|---|---|---|---|---|---|---|---|---|---|---|---|---|---|---|---|---|---|---|\n",
       "| 1 | 2 | 1 |  2.46 | 1 | 17 | 0 | 2 | 2 | 13 | 13 | ⋯ | 0 | 0 | 0 | 0 | 0 | 0 | 0 | 0 | 0 | 0 |\n",
       "| 2 | 1 | 2 |  7.90 | 1 | 24 | 0 | 2 | 2 | 13 | 13 | ⋯ | 0 | 0 | 0 | 0 | 0 | 0 | 0 | 0 | 0 | 0 |\n",
       "| 3 | 1 | 1 |  1.00 | 1 | 19 | 0 | 2 | 2 | 13 | 13 | ⋯ | 0 | 0 | 0 | 0 | 0 | 0 | 0 | 0 | 0 | 0 |\n",
       "| 4 | 2 | 1 |  0.02 | 2 |  1 | 0 | 2 | 2 | 13 | 13 | ⋯ | 0 | 0 | 0 | 0 | 0 | 0 | 0 | 0 | 0 | 0 |\n",
       "| 5 | 1 | 2 | 19.00 | 1 | 58 | 1 | 2 | 2 | 13 | 13 | ⋯ | 0 | 0 | 0 | 0 | 0 | 0 | 0 | 0 | 0 | 0 |\n",
       "\n"
      ],
      "text/plain": [
       "  vendor_id passenger_count trip_distance payment_type MINUTE(dropoff_datetime)\n",
       "1 2         1                2.46         1            17                      \n",
       "2 1         2                7.90         1            24                      \n",
       "3 1         1                1.00         1            19                      \n",
       "4 2         1                0.02         2             1                      \n",
       "5 1         2               19.00         1            58                      \n",
       "  MINUTE(pickup_datetime) DAY(dropoff_datetime) DAY(pickup_datetime)\n",
       "1 0                       2                     2                   \n",
       "2 0                       2                     2                   \n",
       "3 0                       2                     2                   \n",
       "4 0                       2                     2                   \n",
       "5 1                       2                     2                   \n",
       "  WEEK(dropoff_datetime) WEEK(pickup_datetime) ⋯ dropoff_neighborhood = S\n",
       "1 13                     13                    ⋯ 0                       \n",
       "2 13                     13                    ⋯ 0                       \n",
       "3 13                     13                    ⋯ 0                       \n",
       "4 13                     13                    ⋯ 0                       \n",
       "5 13                     13                    ⋯ 0                       \n",
       "  dropoff_neighborhood = AJ dropoff_neighborhood = L dropoff_neighborhood = M\n",
       "1 0                         0                        0                       \n",
       "2 0                         0                        0                       \n",
       "3 0                         0                        0                       \n",
       "4 0                         0                        0                       \n",
       "5 0                         0                        0                       \n",
       "  dropoff_neighborhood = AF dropoff_neighborhood = T dropoff_neighborhood = B\n",
       "1 0                         0                        0                       \n",
       "2 0                         0                        0                       \n",
       "3 0                         0                        0                       \n",
       "4 0                         0                        0                       \n",
       "5 0                         0                        0                       \n",
       "  dropoff_neighborhood = AI dropoff_neighborhood = AE dropoff_neighborhood = AQ\n",
       "1 0                         0                         0                        \n",
       "2 0                         0                         0                        \n",
       "3 0                         0                         0                        \n",
       "4 0                         0                         0                        \n",
       "5 0                         0                         0                        "
      ]
     },
     "metadata": {},
     "output_type": "display_data"
    }
   ],
   "source": [
    "feature_matrix <- compute_features(features, entities)\n",
    "head(feature_matrix,5)"
   ]
  },
  {
   "cell_type": "markdown",
   "metadata": {},
   "source": [
    "### <p style=\"color:blue;font-weight: bold\">Split dataset</p>"
   ]
  },
  {
   "cell_type": "code",
   "execution_count": 22,
   "metadata": {},
   "outputs": [
    {
     "name": "stdout",
     "output_type": "stream",
     "text": [
      "[1] \"Data split successful!\"\n"
     ]
    }
   ],
   "source": [
    "train_test = get_train_test_fm(feature_matrix, trips, .75)\n",
    "\n",
    "y_train = log(train_test$y_train + 1)\n",
    "y_test = log(train_test$y_test + 1)\n",
    "X_train <- logical_to_integer(train_test$X_train)\n",
    "X_test <- logical_to_integer(train_test$X_test)\n",
    "\n",
    "trainingDataset = cbind(y_train,X_train)\n",
    "print('Data split successful!')"
   ]
  },
  {
   "cell_type": "markdown",
   "metadata": {},
   "source": [
    "### <p style=\"color:blue;font-weight: bold\">Model 1.3: Fitting Generalized Boosted Regression Model</p>"
   ]
  },
  {
   "cell_type": "code",
   "execution_count": 23,
   "metadata": {},
   "outputs": [
    {
     "name": "stderr",
     "output_type": "stream",
     "text": [
      "Warning message in gbm.fit(x = x, y = y, offset = offset, distribution = distribution, :\n",
      "“variable 9: `WEEK(dropoff_datetime)` has no variation.”\n",
      "Warning message in gbm.fit(x = x, y = y, offset = offset, distribution = distribution, :\n",
      "“variable 10: `WEEK(pickup_datetime)` has no variation.”\n",
      "Warning message in gbm.fit(x = x, y = y, offset = offset, distribution = distribution, :\n",
      "“variable 11: `MONTH(dropoff_datetime)` has no variation.”\n",
      "Warning message in gbm.fit(x = x, y = y, offset = offset, distribution = distribution, :\n",
      "“variable 12: `MONTH(pickup_datetime)` has no variation.”\n",
      "Warning message in gbm.fit(x = x, y = y, offset = offset, distribution = distribution, :\n",
      "“variable 15: `IS_WEEKEND(dropoff_datetime)` has no variation.”\n",
      "Warning message in gbm.fit(x = x, y = y, offset = offset, distribution = distribution, :\n",
      "“variable 16: `IS_WEEKEND(pickup_datetime)` has no variation.”\n",
      "Warning message in gbm.fit(x = x, y = y, offset = offset, distribution = distribution, :\n",
      "“variable 58: `dropoff_neighborhoods.MEDIAN(trips.passenger_count)` has no variation.”\n",
      "Warning message in gbm.fit(x = x, y = y, offset = offset, distribution = distribution, :\n",
      "“variable 63: `dropoff_neighborhoods.MAX(trips.vendor_id)` has no variation.”\n",
      "Warning message in gbm.fit(x = x, y = y, offset = offset, distribution = distribution, :\n",
      "“variable 67: `dropoff_neighborhoods.MIN(trips.vendor_id)` has no variation.”\n",
      "Warning message in gbm.fit(x = x, y = y, offset = offset, distribution = distribution, :\n",
      "“variable 69: `dropoff_neighborhoods.MIN(trips.payment_type)` has no variation.”\n",
      "Warning message in gbm.fit(x = x, y = y, offset = offset, distribution = distribution, :\n",
      "“variable 70: `dropoff_neighborhoods.MIN(trips.passenger_count)` has no variation.”\n"
     ]
    },
    {
     "name": "stdout",
     "output_type": "stream",
     "text": [
      "Iter   TrainDeviance   ValidDeviance   StepSize   Improve\n",
      "     1        0.4821             nan     0.1000    0.0639\n",
      "     2        0.4279             nan     0.1000    0.0525\n",
      "     3        0.3840             nan     0.1000    0.0419\n",
      "     4        0.3474             nan     0.1000    0.0356\n",
      "     5        0.3178             nan     0.1000    0.0305\n",
      "     6        0.2926             nan     0.1000    0.0255\n",
      "     7        0.2720             nan     0.1000    0.0219\n",
      "     8        0.2543             nan     0.1000    0.0170\n",
      "     9        0.2389             nan     0.1000    0.0156\n",
      "    10        0.2264             nan     0.1000    0.0130\n",
      "    20        0.1608             nan     0.1000    0.0032\n",
      "    40        0.1340             nan     0.1000    0.0003\n",
      "    60        0.1261             nan     0.1000    0.0002\n",
      "    80        0.1225             nan     0.1000   -0.0002\n",
      "   100        0.1194             nan     0.1000   -0.0000\n",
      "\n"
     ]
    }
   ],
   "source": [
    "gbm <- gbm(y_train  ~ ., data = trainingDataset,verbose = TRUE,\n",
    "           n.trees = 100,\n",
    "           distribution=\"gaussian\",\n",
    "           interaction.depth = 3,\n",
    "           n.minobsinnode = 1,\n",
    "           shrinkage = 0.1)"
   ]
  },
  {
   "cell_type": "markdown",
   "metadata": {},
   "source": [
    "### <p style=\"color:blue;font-weight: bold\">Model 1.3: Results from predictions</p>"
   ]
  },
  {
   "cell_type": "markdown",
   "metadata": {},
   "source": [
    "<b>R^2</b>"
   ]
  },
  {
   "cell_type": "code",
   "execution_count": 24,
   "metadata": {},
   "outputs": [
    {
     "data": {
      "text/html": [
       "'R Squared: 0.7084'"
      ],
      "text/latex": [
       "'R Squared: 0.7084'"
      ],
      "text/markdown": [
       "'R Squared: 0.7084'"
      ],
      "text/plain": [
       "[1] \"R Squared: 0.7084\""
      ]
     },
     "metadata": {},
     "output_type": "display_data"
    }
   ],
   "source": [
    "predicted_gbm <- predict(gbm,X_test,n.trees = 100)\n",
    "paste(\"R Squared:\",round(r_squared(y_test,predicted_gbm),4))"
   ]
  },
  {
   "cell_type": "markdown",
   "metadata": {},
   "source": [
    "### <p style=\"color:blue;font-weight: bold\">Model 1.3: Feature influence</p>"
   ]
  },
  {
   "cell_type": "code",
   "execution_count": 25,
   "metadata": {},
   "outputs": [
    {
     "name": "stdout",
     "output_type": "stream",
     "text": [
      "n.trees not given. Using 100 trees.\n",
      "n.trees not given. Using 100 trees.\n"
     ]
    },
    {
     "data": {
      "text/html": [
       "<style>\n",
       ".dl-inline {width: auto; margin:0; padding: 0}\n",
       ".dl-inline>dt, .dl-inline>dd {float: none; width: auto; display: inline-block}\n",
       ".dl-inline>dt::after {content: \":\\0020\"; padding-right: .5ex}\n",
       ".dl-inline>dt:not(:first-of-type) {padding-left: .5ex}\n",
       "</style><dl class=dl-inline><dt>trip_distance</dt><dd>0.9038</dd><dt>dropoff_neighborhoods.longitude</dt><dd>0.0273</dd><dt>dropoff_neighborhoods.latitude</dt><dd>0.0194</dd><dt>`pickup_neighborhoods.SUM(trips.trip_distance)`</dt><dd>0.004</dd><dt>`dropoff_neighborhoods.SUM(trips.trip_distance)`</dt><dd>0.0032</dd><dt>`dropoff_neighborhoods.COUNT(trips)`</dt><dd>0.0024</dd><dt>payment_type</dt><dd>0.0024</dd><dt>pickup_neighborhoods.latitude</dt><dd>0.0023</dd><dt>`MINUTE(dropoff_datetime)`</dt><dd>0.0022</dd><dt>`pickup_neighborhoods.MEAN(trips.passenger_count)`</dt><dd>0.0022</dd><dt>`pickup_neighborhoods.COUNT(trips)`</dt><dd>0.002</dd><dt>`DAY(pickup_datetime)`</dt><dd>0.002</dd><dt>`dropoff_neighborhoods.SUM(trips.passenger_count)`</dt><dd>0.0018</dd><dt>`pickup_neighborhoods.MEAN(trips.trip_distance)`</dt><dd>0.0017</dd><dt>`dropoff_neighborhoods.MEAN(trips.passenger_count)`</dt><dd>0.0015</dd><dt>`dropoff_neighborhoods.MEAN(trips.vendor_id)`</dt><dd>0.0014</dd><dt>pickup_neighborhoods.longitude</dt><dd>0.0014</dd><dt>`dropoff_neighborhoods.MEDIAN(trips.trip_distance)`</dt><dd>0.0013</dd><dt>`pickup_neighborhoods.MEAN(trips.vendor_id)`</dt><dd>0.0012</dd><dt>`dropoff_neighborhoods.MAX(trips.trip_distance)`</dt><dd>0.0011</dd><dt>`dropoff_neighborhoods.SUM(trips.vendor_id)`</dt><dd>0.001</dd><dt>`pickup_neighborhood = X`</dt><dd>0.001</dd><dt>`pickup_neighborhoods.STD(trips.trip_distance)`</dt><dd>9e-04</dd><dt>`MINUTE(pickup_datetime)`</dt><dd>9e-04</dd><dt>`dropoff_neighborhood = AA`</dt><dd>8e-04</dd></dl>\n"
      ],
      "text/latex": [
       "\\begin{description*}\n",
       "\\item[trip\\textbackslash{}\\_distance] 0.9038\n",
       "\\item[dropoff\\textbackslash{}\\_neighborhoods.longitude] 0.0273\n",
       "\\item[dropoff\\textbackslash{}\\_neighborhoods.latitude] 0.0194\n",
       "\\item[`pickup\\textbackslash{}\\_neighborhoods.SUM(trips.trip\\textbackslash{}\\_distance)`] 0.004\n",
       "\\item[`dropoff\\textbackslash{}\\_neighborhoods.SUM(trips.trip\\textbackslash{}\\_distance)`] 0.0032\n",
       "\\item[`dropoff\\textbackslash{}\\_neighborhoods.COUNT(trips)`] 0.0024\n",
       "\\item[payment\\textbackslash{}\\_type] 0.0024\n",
       "\\item[pickup\\textbackslash{}\\_neighborhoods.latitude] 0.0023\n",
       "\\item[`MINUTE(dropoff\\textbackslash{}\\_datetime)`] 0.0022\n",
       "\\item[`pickup\\textbackslash{}\\_neighborhoods.MEAN(trips.passenger\\textbackslash{}\\_count)`] 0.0022\n",
       "\\item[`pickup\\textbackslash{}\\_neighborhoods.COUNT(trips)`] 0.002\n",
       "\\item[`DAY(pickup\\textbackslash{}\\_datetime)`] 0.002\n",
       "\\item[`dropoff\\textbackslash{}\\_neighborhoods.SUM(trips.passenger\\textbackslash{}\\_count)`] 0.0018\n",
       "\\item[`pickup\\textbackslash{}\\_neighborhoods.MEAN(trips.trip\\textbackslash{}\\_distance)`] 0.0017\n",
       "\\item[`dropoff\\textbackslash{}\\_neighborhoods.MEAN(trips.passenger\\textbackslash{}\\_count)`] 0.0015\n",
       "\\item[`dropoff\\textbackslash{}\\_neighborhoods.MEAN(trips.vendor\\textbackslash{}\\_id)`] 0.0014\n",
       "\\item[pickup\\textbackslash{}\\_neighborhoods.longitude] 0.0014\n",
       "\\item[`dropoff\\textbackslash{}\\_neighborhoods.MEDIAN(trips.trip\\textbackslash{}\\_distance)`] 0.0013\n",
       "\\item[`pickup\\textbackslash{}\\_neighborhoods.MEAN(trips.vendor\\textbackslash{}\\_id)`] 0.0012\n",
       "\\item[`dropoff\\textbackslash{}\\_neighborhoods.MAX(trips.trip\\textbackslash{}\\_distance)`] 0.0011\n",
       "\\item[`dropoff\\textbackslash{}\\_neighborhoods.SUM(trips.vendor\\textbackslash{}\\_id)`] 0.001\n",
       "\\item[`pickup\\textbackslash{}\\_neighborhood = X`] 0.001\n",
       "\\item[`pickup\\textbackslash{}\\_neighborhoods.STD(trips.trip\\textbackslash{}\\_distance)`] 9e-04\n",
       "\\item[`MINUTE(pickup\\textbackslash{}\\_datetime)`] 9e-04\n",
       "\\item[`dropoff\\textbackslash{}\\_neighborhood = AA`] 8e-04\n",
       "\\end{description*}\n"
      ],
      "text/markdown": [
       "trip_distance\n",
       ":   0.9038dropoff_neighborhoods.longitude\n",
       ":   0.0273dropoff_neighborhoods.latitude\n",
       ":   0.0194`pickup_neighborhoods.SUM(trips.trip_distance)`\n",
       ":   0.004`dropoff_neighborhoods.SUM(trips.trip_distance)`\n",
       ":   0.0032`dropoff_neighborhoods.COUNT(trips)`\n",
       ":   0.0024payment_type\n",
       ":   0.0024pickup_neighborhoods.latitude\n",
       ":   0.0023`MINUTE(dropoff_datetime)`\n",
       ":   0.0022`pickup_neighborhoods.MEAN(trips.passenger_count)`\n",
       ":   0.0022`pickup_neighborhoods.COUNT(trips)`\n",
       ":   0.002`DAY(pickup_datetime)`\n",
       ":   0.002`dropoff_neighborhoods.SUM(trips.passenger_count)`\n",
       ":   0.0018`pickup_neighborhoods.MEAN(trips.trip_distance)`\n",
       ":   0.0017`dropoff_neighborhoods.MEAN(trips.passenger_count)`\n",
       ":   0.0015`dropoff_neighborhoods.MEAN(trips.vendor_id)`\n",
       ":   0.0014pickup_neighborhoods.longitude\n",
       ":   0.0014`dropoff_neighborhoods.MEDIAN(trips.trip_distance)`\n",
       ":   0.0013`pickup_neighborhoods.MEAN(trips.vendor_id)`\n",
       ":   0.0012`dropoff_neighborhoods.MAX(trips.trip_distance)`\n",
       ":   0.0011`dropoff_neighborhoods.SUM(trips.vendor_id)`\n",
       ":   0.001`pickup_neighborhood = X`\n",
       ":   0.001`pickup_neighborhoods.STD(trips.trip_distance)`\n",
       ":   9e-04`MINUTE(pickup_datetime)`\n",
       ":   9e-04`dropoff_neighborhood = AA`\n",
       ":   8e-04\n",
       "\n"
      ],
      "text/plain": [
       "                                      trip_distance \n",
       "                                             0.9038 \n",
       "                    dropoff_neighborhoods.longitude \n",
       "                                             0.0273 \n",
       "                     dropoff_neighborhoods.latitude \n",
       "                                             0.0194 \n",
       "    `pickup_neighborhoods.SUM(trips.trip_distance)` \n",
       "                                             0.0040 \n",
       "   `dropoff_neighborhoods.SUM(trips.trip_distance)` \n",
       "                                             0.0032 \n",
       "               `dropoff_neighborhoods.COUNT(trips)` \n",
       "                                             0.0024 \n",
       "                                       payment_type \n",
       "                                             0.0024 \n",
       "                      pickup_neighborhoods.latitude \n",
       "                                             0.0023 \n",
       "                         `MINUTE(dropoff_datetime)` \n",
       "                                             0.0022 \n",
       " `pickup_neighborhoods.MEAN(trips.passenger_count)` \n",
       "                                             0.0022 \n",
       "                `pickup_neighborhoods.COUNT(trips)` \n",
       "                                             0.0020 \n",
       "                             `DAY(pickup_datetime)` \n",
       "                                             0.0020 \n",
       " `dropoff_neighborhoods.SUM(trips.passenger_count)` \n",
       "                                             0.0018 \n",
       "   `pickup_neighborhoods.MEAN(trips.trip_distance)` \n",
       "                                             0.0017 \n",
       "`dropoff_neighborhoods.MEAN(trips.passenger_count)` \n",
       "                                             0.0015 \n",
       "      `dropoff_neighborhoods.MEAN(trips.vendor_id)` \n",
       "                                             0.0014 \n",
       "                     pickup_neighborhoods.longitude \n",
       "                                             0.0014 \n",
       "`dropoff_neighborhoods.MEDIAN(trips.trip_distance)` \n",
       "                                             0.0013 \n",
       "       `pickup_neighborhoods.MEAN(trips.vendor_id)` \n",
       "                                             0.0012 \n",
       "   `dropoff_neighborhoods.MAX(trips.trip_distance)` \n",
       "                                             0.0011 \n",
       "       `dropoff_neighborhoods.SUM(trips.vendor_id)` \n",
       "                                             0.0010 \n",
       "                          `pickup_neighborhood = X` \n",
       "                                             0.0010 \n",
       "    `pickup_neighborhoods.STD(trips.trip_distance)` \n",
       "                                             0.0009 \n",
       "                          `MINUTE(pickup_datetime)` \n",
       "                                             0.0009 \n",
       "                        `dropoff_neighborhood = AA` \n",
       "                                             0.0008 "
      ]
     },
     "metadata": {},
     "output_type": "display_data"
    }
   ],
   "source": [
    "head(round(relative.influence(gbm,sort= TRUE)/sum(relative.influence(gbm)),4),25)"
   ]
  },
  {
   "cell_type": "markdown",
   "metadata": {},
   "source": [
    "## <u>Evaluate on Test Data</u>"
   ]
  },
  {
   "cell_type": "code",
   "execution_count": 26,
   "metadata": {},
   "outputs": [
    {
     "name": "stdout",
     "output_type": "stream",
     "text": [
      "[1] \"y_pred and y_test computation successful!\"\n"
     ]
    }
   ],
   "source": [
    "y_pred <- predict(gbm,X_test,n.trees = 100)\n",
    "y_pred <- exp(y_pred) - 1 # undo the log we took earlier\n",
    "\n",
    "y_test <- train_test$y_test\n",
    "\n",
    "print('y_pred and y_test computation successful!')"
   ]
  },
  {
   "cell_type": "code",
   "execution_count": 27,
   "metadata": {},
   "outputs": [
    {
     "data": {
      "text/html": [
       "<style>\n",
       ".list-inline {list-style: none; margin:0; padding: 0}\n",
       ".list-inline>li {display: inline-block}\n",
       ".list-inline>li:not(:last-child)::after {content: \"\\00b7\"; padding: 0 .5ex}\n",
       "</style>\n",
       "<ol class=list-inline><li>495</li><li>773</li><li>744</li><li>737</li><li>516</li><li>1557</li><li>497</li><li>1184</li><li>790</li><li>620</li></ol>\n"
      ],
      "text/latex": [
       "\\begin{enumerate*}\n",
       "\\item 495\n",
       "\\item 773\n",
       "\\item 744\n",
       "\\item 737\n",
       "\\item 516\n",
       "\\item 1557\n",
       "\\item 497\n",
       "\\item 1184\n",
       "\\item 790\n",
       "\\item 620\n",
       "\\end{enumerate*}\n"
      ],
      "text/markdown": [
       "1. 495\n",
       "2. 773\n",
       "3. 744\n",
       "4. 737\n",
       "5. 516\n",
       "6. 1557\n",
       "7. 497\n",
       "8. 1184\n",
       "9. 790\n",
       "10. 620\n",
       "\n",
       "\n"
      ],
      "text/plain": [
       " [1]  495  773  744  737  516 1557  497 1184  790  620"
      ]
     },
     "metadata": {},
     "output_type": "display_data"
    },
    {
     "data": {
      "text/html": [
       "<style>\n",
       ".list-inline {list-style: none; margin:0; padding: 0}\n",
       ".list-inline>li {display: inline-block}\n",
       ".list-inline>li:not(:last-child)::after {content: \"\\00b7\"; padding: 0 .5ex}\n",
       "</style>\n",
       "<ol class=list-inline><li>357</li><li>570</li><li>520</li><li>519</li><li>390</li><li>1146</li><li>553</li><li>1050</li><li>603</li><li>599</li></ol>\n"
      ],
      "text/latex": [
       "\\begin{enumerate*}\n",
       "\\item 357\n",
       "\\item 570\n",
       "\\item 520\n",
       "\\item 519\n",
       "\\item 390\n",
       "\\item 1146\n",
       "\\item 553\n",
       "\\item 1050\n",
       "\\item 603\n",
       "\\item 599\n",
       "\\end{enumerate*}\n"
      ],
      "text/markdown": [
       "1. 357\n",
       "2. 570\n",
       "3. 520\n",
       "4. 519\n",
       "5. 390\n",
       "6. 1146\n",
       "7. 553\n",
       "8. 1050\n",
       "9. 603\n",
       "10. 599\n",
       "\n",
       "\n"
      ],
      "text/plain": [
       " [1]  357  570  520  519  390 1146  553 1050  603  599"
      ]
     },
     "metadata": {},
     "output_type": "display_data"
    }
   ],
   "source": [
    "# Print the first 5 predictions and real values\n",
    "head(round(y_pred),10)\n",
    "head(round(y_test),10)"
   ]
  },
  {
   "cell_type": "code",
   "execution_count": 28,
   "metadata": {},
   "outputs": [
    {
     "data": {
      "text/plain": [
       "   Min. 1st Qu.  Median    Mean 3rd Qu.    Max. \n",
       "    2.0   321.0   546.5   681.0   885.2  3573.0 "
      ]
     },
     "metadata": {},
     "output_type": "display_data"
    },
    {
     "data": {
      "image/png": "[encoded data removed]",
      "text/plain": [
       "Plot with title “Real Trip Duration Distribution”"
      ]
     },
     "metadata": {
      "image/png": {
       "height": 420,
       "width": 420
      },
      "text/plain": {
       "height": 420,
       "width": 420
      }
     },
     "output_type": "display_data"
    },
    {
     "data": {
      "text/plain": [
       "   Min. 1st Qu.  Median    Mean 3rd Qu.    Max. \n",
       "  15.14  363.23  591.37  706.21  948.33 2390.58 "
      ]
     },
     "metadata": {},
     "output_type": "display_data"
    },
    {
     "data": {
      "image/png": "[encoded data removed]",
      "text/plain": [
       "Plot with title “Predicted Trip Duration Distribution”"
      ]
     },
     "metadata": {
      "image/png": {
       "height": 420,
       "width": 420
      },
      "text/plain": {
       "height": 420,
       "width": 420
      }
     },
     "output_type": "display_data"
    }
   ],
   "source": [
    "# Histogram of y_test\n",
    "hist(y_test, main=\"Real Trip Duration Distribution\", \n",
    "  xlab=\"Trip Duration in Seconds\",\n",
    "  ylab=\"Number of Trips\",\n",
    "  col=\"lightblue\")\n",
    "summary(y_test)\n",
    "\n",
    "# Histogram of y_pred\n",
    "hist(y_pred, main=\"Predicted Trip Duration Distribution\", \n",
    "  xlab=\"Trip Duration in Seconds\",\n",
    "  ylab=\"Number of Trips\",\n",
    "  col=\"lightgreen\")\n",
    "summary(y_pred)"
   ]
  }
 ],
 "metadata": {
  "kernelspec": {
   "display_name": "R",
   "language": "R",
   "name": "ir"
  },
  "language_info": {
   "codemirror_mode": "r",
   "file_extension": ".r",
   "mimetype": "text/x-r-source",
   "name": "R",
   "pygments_lexer": "r",
   "version": "3.6.1"
  }
 },
 "nbformat": 4,
 "nbformat_minor": 4
}
